{
 "cells": [
  {
   "cell_type": "code",
   "execution_count": 1,
   "metadata": {},
   "outputs": [
    {
     "data": {
      "application/vnd.jupyter.widget-view+json": {
       "model_id": "3ba51cef64694464be9c6dca22f1cb93",
       "version_major": 2,
       "version_minor": 0
      },
      "text/plain": [
       "VBox()"
      ]
     },
     "metadata": {},
     "output_type": "display_data"
    },
    {
     "name": "stdout",
     "output_type": "stream",
     "text": [
      "Starting Spark application\n"
     ]
    },
    {
     "data": {
      "text/html": [
       "<table>\n",
       "<tr><th>ID</th><th>YARN Application ID</th><th>Kind</th><th>State</th><th>Spark UI</th><th>Driver log</th><th>Current session?</th></tr><tr><td>0</td><td>application_1579234887099_0001</td><td>pyspark</td><td>idle</td><td><a target=\"_blank\" href=\"http://ip-172-31-11-230.us-west-1.compute.internal:20888/proxy/application_1579234887099_0001/\">Link</a></td><td><a target=\"_blank\" href=\"http://ip-172-31-15-135.us-west-1.compute.internal:8042/node/containerlogs/container_1579234887099_0001_01_000001/livy\">Link</a></td><td>✔</td></tr></table>"
      ],
      "text/plain": [
       "<IPython.core.display.HTML object>"
      ]
     },
     "metadata": {},
     "output_type": "display_data"
    },
    {
     "data": {
      "application/vnd.jupyter.widget-view+json": {
       "model_id": "",
       "version_major": 2,
       "version_minor": 0
      },
      "text/plain": [
       "FloatProgress(value=0.0, bar_style='info', description='Progress:', layout=Layout(height='25px', width='50%'),…"
      ]
     },
     "metadata": {},
     "output_type": "display_data"
    },
    {
     "name": "stdout",
     "output_type": "stream",
     "text": [
      "SparkSession available as 'spark'.\n"
     ]
    },
    {
     "data": {
      "application/vnd.jupyter.widget-view+json": {
       "model_id": "",
       "version_major": 2,
       "version_minor": 0
      },
      "text/plain": [
       "FloatProgress(value=0.0, bar_style='info', description='Progress:', layout=Layout(height='25px', width='50%'),…"
      ]
     },
     "metadata": {},
     "output_type": "display_data"
    },
    {
     "name": "stdout",
     "output_type": "stream",
     "text": [
      "<SparkContext master=yarn appName=livy-session-0>"
     ]
    }
   ],
   "source": [
    "sc"
   ]
  },
  {
   "cell_type": "code",
   "execution_count": 3,
   "metadata": {},
   "outputs": [
    {
     "data": {
      "application/vnd.jupyter.widget-view+json": {
       "model_id": "8e241c6f2b95475a9f303ea15808414d",
       "version_major": 2,
       "version_minor": 0
      },
      "text/plain": [
       "VBox()"
      ]
     },
     "metadata": {},
     "output_type": "display_data"
    },
    {
     "data": {
      "application/vnd.jupyter.widget-view+json": {
       "model_id": "",
       "version_major": 2,
       "version_minor": 0
      },
      "text/plain": [
       "FloatProgress(value=0.0, bar_style='info', description='Progress:', layout=Layout(height='25px', width='50%'),…"
      ]
     },
     "metadata": {},
     "output_type": "display_data"
    }
   ],
   "source": [
    "import numpy as np\n",
    "from pyspark.sql import SparkSession\n",
    "from pyspark.sql.types import *\n",
    "\n",
    "#import pyspark\n",
    "\n",
    "#from pysparkling import *\n",
    "\n",
    "ss = SparkSession.builder.getOrCreate()"
   ]
  },
  {
   "cell_type": "code",
   "execution_count": 4,
   "metadata": {},
   "outputs": [
    {
     "data": {
      "application/vnd.jupyter.widget-view+json": {
       "model_id": "96f550e19d4240619eaa167c4529c932",
       "version_major": 2,
       "version_minor": 0
      },
      "text/plain": [
       "VBox()"
      ]
     },
     "metadata": {},
     "output_type": "display_data"
    },
    {
     "data": {
      "application/vnd.jupyter.widget-view+json": {
       "model_id": "",
       "version_major": 2,
       "version_minor": 0
      },
      "text/plain": [
       "FloatProgress(value=0.0, bar_style='info', description='Progress:', layout=Layout(height='25px', width='50%'),…"
      ]
     },
     "metadata": {},
     "output_type": "display_data"
    },
    {
     "name": "stdout",
     "output_type": "stream",
     "text": [
      "root\n",
      " |-- num_prev_so: integer (nullable = true)\n",
      " |-- mean_amp_prev_so: double (nullable = true)\n",
      " |-- mean_duration_prev_so: double (nullable = true)\n",
      " |-- amp_curr_so: double (nullable = true)\n",
      " |-- duration_curr_so: integer (nullable = true)\n",
      " |-- curr_sleep_stage: integer (nullable = true)\n",
      " |-- time_elapsed_since_asleep: integer (nullable = true)\n",
      " |-- time_deep_sleep: integer (nullable = true)\n",
      " |-- time_light_sleep: integer (nullable = true)\n",
      " |-- time_rem_sleep: integer (nullable = true)\n",
      " |-- time_wake_sleep: integer (nullable = true)\n",
      " |-- eeg_min: double (nullable = true)\n",
      " |-- eeg_max: double (nullable = true)\n",
      " |-- eeg_mean: double (nullable = true)\n",
      " |-- eeg_median: double (nullable = true)\n",
      " |-- label: integer (nullable = true)\n",
      "\n",
      "+-----------+------------------+---------------------+-----------+----------------+----------------+-------------------------+---------------+----------------+--------------+---------------+--------+-------+--------------------+-----------------+-----+\n",
      "|num_prev_so|  mean_amp_prev_so|mean_duration_prev_so|amp_curr_so|duration_curr_so|curr_sleep_stage|time_elapsed_since_asleep|time_deep_sleep|time_light_sleep|time_rem_sleep|time_wake_sleep| eeg_min|eeg_max|            eeg_mean|       eeg_median|label|\n",
      "+-----------+------------------+---------------------+-----------+----------------+----------------+-------------------------+---------------+----------------+--------------+---------------+--------+-------+--------------------+-----------------+-----+\n",
      "|        237|           152.659|              341.523|    128.017|             429|               3|                    11379|           2730|            3780|             0|            480|-258.302|211.599|  11.400369923021584|          11.0302|    0|\n",
      "|        176|146.88299999999995|               338.04|    119.131|             196|               2|                     6721|           2580|            2100|             0|            480|-97.9233|70.1037| -1.2208607163069545|         -1.12336|    1|\n",
      "|        456|           152.377|              335.629|    164.293|             417|               2|                    26832|           3240|            7440|          2130|            750|-121.882|117.155|  3.5453129177458025|7.720039999999999|    1|\n",
      "|         21|           139.721|              336.286|    159.237|             407|               3|                     1289|              0|              60|             0|            450|-110.453|92.3682|-0.11853414580335754|         -3.48321|    1|\n",
      "|         72|           140.649|              349.875|    130.184|             297|               3|                     2262|            630|             960|             0|            450|-119.812|105.522|    1.42210017186251|        -0.786747|    2|\n",
      "+-----------+------------------+---------------------+-----------+----------------+----------------+-------------------------+---------------+----------------+--------------+---------------+--------+-------+--------------------+-----------------+-----+\n",
      "only showing top 5 rows"
     ]
    }
   ],
   "source": [
    "data_path = \"s3://msds694-group15/slow.csv\"\n",
    "data = ss.read.csv(data_path, inferSchema=True, header=True)\n",
    "\n",
    "processed_rdd = data.rdd\\\n",
    "                 .map(lambda x: list(x[0:11])\n",
    "                      + [min(x[11:]), max(x[11:]), float(np.mean(x[11:])), float(np.median(x[11:]))]\n",
    "                      + [x[-1]])\n",
    "\n",
    "schema = StructType([StructField(\"num_prev_so\", IntegerType(), True),\n",
    "                     StructField(\"mean_amp_prev_so\", DoubleType(), True),\n",
    "                     StructField(\"mean_duration_prev_so\", DoubleType(), True),\n",
    "                     StructField(\"amp_curr_so\", DoubleType(), True),\n",
    "                     StructField(\"duration_curr_so\", IntegerType(), True),\n",
    "                     StructField(\"curr_sleep_stage\", IntegerType(), True),\n",
    "                     StructField(\"time_elapsed_since_asleep\", IntegerType(), True),\n",
    "                     StructField(\"time_deep_sleep\", IntegerType(), True),\n",
    "                     StructField(\"time_light_sleep\", IntegerType(), True),\n",
    "                     StructField(\"time_rem_sleep\", IntegerType(), True),\n",
    "                     StructField(\"time_wake_sleep\", IntegerType(), True),\n",
    "                     StructField(\"eeg_min\", DoubleType(), True),\n",
    "                     StructField(\"eeg_max\", DoubleType(), True),\n",
    "                     StructField(\"eeg_mean\", DoubleType(), True),\n",
    "                     StructField(\"eeg_median\", DoubleType(), True),\n",
    "                     StructField(\"label\", IntegerType(), True)\n",
    "                    ])\n",
    "\n",
    "data_preprocessed = ss.createDataFrame(processed_rdd, schema)\n",
    "data_preprocessed.printSchema()\n",
    "\n",
    "data_preprocessed.show(5)\n",
    "\n",
    "data_preprocessed.write.option(\"path\", \"/data\").saveAsTable('data17')"
   ]
  },
  {
   "cell_type": "code",
   "execution_count": 5,
   "metadata": {},
   "outputs": [
    {
     "data": {
      "application/vnd.jupyter.widget-view+json": {
       "model_id": "374532fcbb5b4e63a91ec5e4d9157b50",
       "version_major": 2,
       "version_minor": 0
      },
      "text/plain": [
       "VBox()"
      ]
     },
     "metadata": {},
     "output_type": "display_data"
    },
    {
     "data": {
      "application/vnd.jupyter.widget-view+json": {
       "model_id": "",
       "version_major": 2,
       "version_minor": 0
      },
      "text/plain": [
       "FloatProgress(value=0.0, bar_style='info', description='Progress:', layout=Layout(height='25px', width='50%'),…"
      ]
     },
     "metadata": {},
     "output_type": "display_data"
    },
    {
     "name": "stdout",
     "output_type": "stream",
     "text": [
      "Collecting h2o-pysparkling-2.4\n",
      "  Downloading https://files.pythonhosted.org/packages/a0/4c/0b5c5f2e76d84a7b54875a14cf79523714c49f077d33af21ea9418b54abf/h2o_pysparkling_2.4-3.28.0.1-1.tar.gz (101.2MB)\n",
      "Collecting requests\n",
      "  Downloading https://files.pythonhosted.org/packages/51/bd/23c926cd341ea6b7dd0b2a00aba99ae0f828be89d72b2190f27c11d4b7fb/requests-2.22.0-py2.py3-none-any.whl (57kB)\n",
      "Collecting tabulate\n",
      "  Downloading https://files.pythonhosted.org/packages/c4/41/523f6a05e6dc3329a5660f6a81254c6cd87e5cfb5b7482bae3391d86ec3a/tabulate-0.8.6.tar.gz (45kB)\n",
      "Collecting future\n",
      "  Downloading https://files.pythonhosted.org/packages/45/0b/38b06fd9b92dc2b68d58b75f900e97884c45bedd2ff83203d933cf5851c9/future-0.18.2.tar.gz (829kB)\n",
      "Collecting colorama>=0.3.8\n",
      "  Downloading https://files.pythonhosted.org/packages/c9/dc/45cdef1b4d119eb96316b3117e6d5708a08029992b2fee2c143c7a0a5cc5/colorama-0.4.3-py2.py3-none-any.whl\n",
      "Requirement already satisfied: numpy>=1.9.2 in /usr/local/lib64/python3.6/site-packages (from h2o-pysparkling-2.4) (1.14.5)\n",
      "Collecting pyspark<=2.4.4,>=2.4.0\n",
      "  Downloading https://files.pythonhosted.org/packages/87/21/f05c186f4ddb01d15d0ddc36ef4b7e3cedbeb6412274a41f26b55a650ee5/pyspark-2.4.4.tar.gz (215.7MB)\n",
      "Collecting idna<2.9,>=2.5\n",
      "  Downloading https://files.pythonhosted.org/packages/14/2c/cd551d81dbe15200be1cf41cd03869a46fe7226e7450af7a6545bfc474c9/idna-2.8-py2.py3-none-any.whl (58kB)\n",
      "Collecting certifi>=2017.4.17\n",
      "  Downloading https://files.pythonhosted.org/packages/b9/63/df50cac98ea0d5b006c55a399c3bf1db9da7b5a24de7890bc9cfd5dd9e99/certifi-2019.11.28-py2.py3-none-any.whl (156kB)\n",
      "Collecting urllib3!=1.25.0,!=1.25.1,<1.26,>=1.21.1\n",
      "  Downloading https://files.pythonhosted.org/packages/b4/40/a9837291310ee1ccc242ceb6ebfd9eb21539649f193a7c8c86ba15b98539/urllib3-1.25.7-py2.py3-none-any.whl (125kB)\n",
      "Collecting chardet<3.1.0,>=3.0.2\n",
      "  Downloading https://files.pythonhosted.org/packages/bc/a9/01ffebfb562e4274b6487b4bb1ddec7ca55ec7510b22e4c51f14098443b8/chardet-3.0.4-py2.py3-none-any.whl (133kB)\n",
      "Collecting py4j==0.10.7\n",
      "  Downloading https://files.pythonhosted.org/packages/e3/53/c737818eb9a7dc32a7cd4f1396e787bd94200c3997c72c1dbe028587bd76/py4j-0.10.7-py2.py3-none-any.whl (197kB)\n",
      "Building wheels for collected packages: h2o-pysparkling-2.4, tabulate, future, pyspark\n",
      "  Building wheel for h2o-pysparkling-2.4 (setup.py): started\n",
      "  Building wheel for h2o-pysparkling-2.4 (setup.py): finished with status 'done'\n",
      "  Created wheel for h2o-pysparkling-2.4: filename=h2o_pysparkling_2.4-3.28.0.1.post1-py2.py3-none-any.whl size=101307807 sha256=8c4a787f9bfe999f19c1d0f76d8b087d7cf6c44d7e482016dd0be7cdc31f97c3\n",
      "  Stored in directory: /var/lib/livy/.cache/pip/wheels/0d/2f/d2/7e0c36c53b57ca597430858ab3d72e1a612a10780016ff6765\n",
      "  Building wheel for tabulate (setup.py): started\n",
      "  Building wheel for tabulate (setup.py): finished with status 'done'\n",
      "  Created wheel for tabulate: filename=tabulate-0.8.6-cp36-none-any.whl size=23271 sha256=a5bbbbfa6767a0db7e0bbe8e1d0a422015b57c6debcbbaef32ff3a7c9a89a04d\n",
      "  Stored in directory: /var/lib/livy/.cache/pip/wheels/9c/9b/f4/eb243fdb89676ec00588e8c54bb54360724c06e7fafe95278e\n",
      "  Building wheel for future (setup.py): started\n",
      "  Building wheel for future (setup.py): finished with status 'done'\n",
      "  Created wheel for future: filename=future-0.18.2-cp36-none-any.whl size=491057 sha256=b444d976d7ce5a2c9496010cbc82c8aab5a29292a34606b524efd5d315ba0742\n",
      "  Stored in directory: /var/lib/livy/.cache/pip/wheels/8b/99/a0/81daf51dcd359a9377b110a8a886b3895921802d2fc1b2397e\n",
      "  Building wheel for pyspark (setup.py): started\n",
      "  Building wheel for pyspark (setup.py): finished with status 'done'\n",
      "  Created wheel for pyspark: filename=pyspark-2.4.4-py2.py3-none-any.whl size=216130387 sha256=602e8080a7acd60c17b9d62ae66f4cf64053534ffa0b07bc8a69a4adc102993d\n",
      "  Stored in directory: /var/lib/livy/.cache/pip/wheels/ab/09/4d/0d184230058e654eb1b04467dbc1292f00eaa186544604b471\n",
      "Successfully built h2o-pysparkling-2.4 tabulate future pyspark\n",
      "Installing collected packages: idna, certifi, urllib3, chardet, requests, tabulate, future, colorama, py4j, pyspark, h2o-pysparkling-2.4\n",
      "Successfully installed certifi-2019.11.28 chardet-3.0.4 colorama-0.4.3 future-0.18.2 h2o-pysparkling-2.4-3.28.0.1.post1 idna-2.8 py4j-0.10.7 pyspark-2.4.4 requests-2.22.0 tabulate-0.8.6 urllib3-1.25.7\n",
      "\n",
      "Collecting h2o\n",
      "  Downloading https://files.pythonhosted.org/packages/6b/d1/aaa74df4716b2454d6034261807ef3855d014862c801f0e9b803b568006d/h2o-3.28.0.1.tar.gz (123.4MB)\n",
      "Requirement already satisfied: requests in /mnt/tmp/1579235481924-0/lib/python3.6/site-packages (from h2o) (2.22.0)\n",
      "Requirement already satisfied: tabulate in /mnt/tmp/1579235481924-0/lib/python3.6/site-packages (from h2o) (0.8.6)\n",
      "Requirement already satisfied: future in /mnt/tmp/1579235481924-0/lib/python3.6/site-packages (from h2o) (0.18.2)\n",
      "Requirement already satisfied: colorama>=0.3.8 in /mnt/tmp/1579235481924-0/lib/python3.6/site-packages (from h2o) (0.4.3)\n",
      "Requirement already satisfied: idna<2.9,>=2.5 in /mnt/tmp/1579235481924-0/lib/python3.6/site-packages (from requests->h2o) (2.8)\n",
      "Requirement already satisfied: certifi>=2017.4.17 in /mnt/tmp/1579235481924-0/lib/python3.6/site-packages (from requests->h2o) (2019.11.28)\n",
      "Requirement already satisfied: urllib3!=1.25.0,!=1.25.1,<1.26,>=1.21.1 in /mnt/tmp/1579235481924-0/lib/python3.6/site-packages (from requests->h2o) (1.25.7)\n",
      "Requirement already satisfied: chardet<3.1.0,>=3.0.2 in /mnt/tmp/1579235481924-0/lib/python3.6/site-packages (from requests->h2o) (3.0.4)\n",
      "Building wheels for collected packages: h2o\n",
      "  Building wheel for h2o (setup.py): started\n",
      "  Building wheel for h2o (setup.py): finished with status 'done'\n",
      "  Created wheel for h2o: filename=h2o-3.28.0.1-py2.py3-none-any.whl size=123410554 sha256=fcb1b7d35effb913061a69f84d28f692cb468154194530b7be7cdab0da31ae09\n",
      "  Stored in directory: /var/lib/livy/.cache/pip/wheels/ff/82/f4/3fe9c895b93c53b25ae44dc44aa54dad571c711f48bc485fe9\n",
      "Successfully built h2o\n",
      "Installing collected packages: h2o\n",
      "Successfully installed h2o-3.28.0.1\n",
      "\n",
      "Checking whether there is an H2O instance running at http://localhost:54321 ..... not found.\n",
      "Attempting to start a local H2O server...\n",
      "  Java Version: openjdk version \"1.8.0_232\"; OpenJDK Runtime Environment (build 1.8.0_232-b09); OpenJDK 64-Bit Server VM (build 25.232-b09, mixed mode)\n",
      "  Starting server from /mnt/tmp/1579235481924-0/lib/python3.6/site-packages/h2o/backend/bin/h2o.jar\n",
      "  Ice root: /tmp/tmpih02icmb\n",
      "  JVM stdout: /tmp/tmpih02icmb/h2o_livy_started_from_python.out\n",
      "  JVM stderr: /tmp/tmpih02icmb/h2o_livy_started_from_python.err\n",
      "  Server is running at http://127.0.0.1:54321\n",
      "Connecting to H2O server at http://127.0.0.1:54321 ... successful.\n",
      "--------------------------  ------------------------------------------------------------------\n",
      "H2O cluster uptime:         01 secs\n",
      "H2O cluster timezone:       Etc/UCT\n",
      "H2O data parsing timezone:  UTC\n",
      "H2O cluster version:        3.28.0.1\n",
      "H2O cluster version age:    1 month\n",
      "H2O cluster name:           H2O_from_python_livy_hrg5mn\n",
      "H2O cluster total nodes:    1\n",
      "H2O cluster free memory:    13.81 Gb\n",
      "H2O cluster total cores:    8\n",
      "H2O cluster allowed cores:  8\n",
      "H2O cluster status:         accepting new members, healthy\n",
      "H2O connection url:         http://127.0.0.1:54321\n",
      "H2O connection proxy:       {'http': None, 'https': None}\n",
      "H2O internal security:      False\n",
      "H2O API Extensions:         Amazon S3, XGBoost, Algos, AutoML, Core V3, TargetEncoder, Core V4\n",
      "Python version:             3.6.8 final\n",
      "--------------------------  ------------------------------------------------------------------\n",
      "ERROR: python36-sagemaker-pyspark 1.2.6 has requirement pyspark==2.3.2, but you'll have pyspark 2.4.4 which is incompatible."
     ]
    }
   ],
   "source": [
    "import time\n",
    "start_time = time.time()\n",
    "\n",
    "data = ss.sql(\"select * from parquet.`/data`\")\n",
    "\n",
    "#sc.list_packages()\n",
    "\n",
    "sc.install_pypi_package(\"h2o-pysparkling-2.4\")\n",
    "\n",
    "sc.install_pypi_package(\"h2o\")\n",
    "\n",
    "from pysparkling import *\n",
    "import pyspark\n",
    "\n",
    "import h2o\n",
    "h2o.init()"
   ]
  },
  {
   "cell_type": "code",
   "execution_count": 6,
   "metadata": {},
   "outputs": [
    {
     "data": {
      "application/vnd.jupyter.widget-view+json": {
       "model_id": "e533057290c14a5fbab6cc4a6f63ba31",
       "version_major": 2,
       "version_minor": 0
      },
      "text/plain": [
       "VBox()"
      ]
     },
     "metadata": {},
     "output_type": "display_data"
    },
    {
     "data": {
      "application/vnd.jupyter.widget-view+json": {
       "model_id": "",
       "version_major": 2,
       "version_minor": 0
      },
      "text/plain": [
       "FloatProgress(value=0.0, bar_style='info', description='Progress:', layout=Layout(height='25px', width='50%'),…"
      ]
     },
     "metadata": {},
     "output_type": "display_data"
    }
   ],
   "source": [
    "ss = pyspark.sql.SparkSession.builder.master('yarn')\\\n",
    ".config(\"spark.dynamicAllocation.enabled\", True)\\\n",
    ".getOrCreate()"
   ]
  },
  {
   "cell_type": "code",
   "execution_count": 7,
   "metadata": {},
   "outputs": [
    {
     "data": {
      "application/vnd.jupyter.widget-view+json": {
       "model_id": "4e13f1cab8aa49fa87168e64796b2a07",
       "version_major": 2,
       "version_minor": 0
      },
      "text/plain": [
       "VBox()"
      ]
     },
     "metadata": {},
     "output_type": "display_data"
    },
    {
     "data": {
      "application/vnd.jupyter.widget-view+json": {
       "model_id": "",
       "version_major": 2,
       "version_minor": 0
      },
      "text/plain": [
       "FloatProgress(value=0.0, bar_style='info', description='Progress:', layout=Layout(height='25px', width='50%'),…"
      ]
     },
     "metadata": {},
     "output_type": "display_data"
    },
    {
     "name": "stdout",
     "output_type": "stream",
     "text": [
      "Connecting to H2O server at http://ip-172-31-11-230.us-west-1.compute.internal:54323 ... successful.\n",
      "--------------------------  ------------------------------------------------------------------\n",
      "H2O cluster uptime:         04 secs\n",
      "H2O cluster timezone:       Etc/UCT\n",
      "H2O data parsing timezone:  UTC\n",
      "H2O cluster version:        3.28.0.1\n",
      "H2O cluster version age:    1 month\n",
      "H2O cluster name:           sparkling-water-livy_application_1579234887099_0001\n",
      "H2O cluster total nodes:    1\n",
      "H2O cluster free memory:    18.46 Gb\n",
      "H2O cluster total cores:    8\n",
      "H2O cluster allowed cores:  4\n",
      "H2O cluster status:         accepting new members, healthy\n",
      "H2O connection url:         http://ip-172-31-11-230.us-west-1.compute.internal:54323\n",
      "H2O connection proxy:\n",
      "H2O internal security:      False\n",
      "H2O API Extensions:         XGBoost, Algos, Amazon S3, AutoML, Core V3, TargetEncoder, Core V4\n",
      "Python version:             3.6.8 final\n",
      "--------------------------  ------------------------------------------------------------------\n",
      "\n",
      "Sparkling Water Context:\n",
      " * Sparkling Water Version: 3.28.0.1-1-2.4\n",
      " * H2O name: sparkling-water-livy_application_1579234887099_0001\n",
      " * cluster size: 1\n",
      " * list of used nodes:\n",
      "  (executorId, host, port)\n",
      "  ------------------------\n",
      "  (15,172.31.15.135,54321)\n",
      "  ------------------------\n",
      "\n",
      "  Open H2O Flow in browser: http://ip-172-31-11-230.us-west-1.compute.internal:54323 (CMD + click in Mac OSX)\n",
      "\n",
      "    \n",
      " * Yarn App ID of Spark application: application_1579234887099_0001"
     ]
    }
   ],
   "source": [
    "hc = H2OContext.getOrCreate(ss)\n",
    "\n",
    "h2o_df = hc.as_h2o_frame(data, \"sleepData\")\n",
    "\n",
    "### split dataset\n",
    "\n",
    "train_df, valid_df = data.randomSplit([0.85, 0.15], seed=1)\n",
    "train_df.cache()\n",
    "valid_df.cache()\n",
    "\n",
    "train_h2o = hc.as_h2o_frame(train_df, 'train_h2o')\n",
    "valid_h2o = hc.as_h2o_frame(valid_df, 'valid_h2o')\n",
    "\n",
    "train_h2o['label'] = train_h2o['label'].asfactor()\n",
    "valid_h2o['label'] = valid_h2o['label'].asfactor()"
   ]
  },
  {
   "cell_type": "code",
   "execution_count": 8,
   "metadata": {},
   "outputs": [
    {
     "data": {
      "application/vnd.jupyter.widget-view+json": {
       "model_id": "9d616976db5e43eb81d71b0ea00df790",
       "version_major": 2,
       "version_minor": 0
      },
      "text/plain": [
       "VBox()"
      ]
     },
     "metadata": {},
     "output_type": "display_data"
    },
    {
     "data": {
      "application/vnd.jupyter.widget-view+json": {
       "model_id": "",
       "version_major": 2,
       "version_minor": 0
      },
      "text/plain": [
       "FloatProgress(value=0.0, bar_style='info', description='Progress:', layout=Layout(height='25px', width='50%'),…"
      ]
     },
     "metadata": {},
     "output_type": "display_data"
    }
   ],
   "source": [
    "predictors = train_h2o.names[:]\n",
    "response = train_h2o.names[-1]\n",
    "predictors.remove(response)\n",
    "\n",
    "n_folds = 3\n",
    "fold_assignment = \"Modulo\"\n",
    "keep_cross_validation_predictions = True"
   ]
  },
  {
   "cell_type": "code",
   "execution_count": 9,
   "metadata": {},
   "outputs": [
    {
     "data": {
      "application/vnd.jupyter.widget-view+json": {
       "model_id": "12804807c162478fa8bb2769e3ae77f4",
       "version_major": 2,
       "version_minor": 0
      },
      "text/plain": [
       "VBox()"
      ]
     },
     "metadata": {},
     "output_type": "display_data"
    },
    {
     "data": {
      "application/vnd.jupyter.widget-view+json": {
       "model_id": "",
       "version_major": 2,
       "version_minor": 0
      },
      "text/plain": [
       "FloatProgress(value=0.0, bar_style='info', description='Progress:', layout=Layout(height='25px', width='50%'),…"
      ]
     },
     "metadata": {},
     "output_type": "display_data"
    },
    {
     "name": "stderr",
     "output_type": "stream",
     "text": [
      "name 'end_time' is not defined\n",
      "Traceback (most recent call last):\n",
      "NameError: name 'end_time' is not defined\n",
      "\n"
     ]
    }
   ],
   "source": [
    "start_time_model = time.time()\n",
    "from h2o.estimators.deeplearning import H2ODeepLearningEstimator\n",
    "\n",
    "model_dl = H2ODeepLearningEstimator(variable_importances=True,\n",
    "                                    nfolds=n_folds,\n",
    "                                    fold_assignment=fold_assignment,\n",
    "                                    keep_cross_validation_predictions=keep_cross_validation_predictions,\n",
    "                                    loss=\"Automatic\")\n",
    "\n",
    "model_dl.train(x=predictors,\n",
    "               y=response,\n",
    "               training_frame=train_h2o)\n",
    "\n",
    "end_time_total = time.time() - start_time\n",
    "end_time_model = time.time() - start_time_model\n",
    "print (end_time_total)"
   ]
  },
  {
   "cell_type": "code",
   "execution_count": 10,
   "metadata": {},
   "outputs": [
    {
     "data": {
      "application/vnd.jupyter.widget-view+json": {
       "model_id": "6e9bf32f503744fc8108094d7fd85ed0",
       "version_major": 2,
       "version_minor": 0
      },
      "text/plain": [
       "VBox()"
      ]
     },
     "metadata": {},
     "output_type": "display_data"
    },
    {
     "data": {
      "application/vnd.jupyter.widget-view+json": {
       "model_id": "",
       "version_major": 2,
       "version_minor": 0
      },
      "text/plain": [
       "FloatProgress(value=0.0, bar_style='info', description='Progress:', layout=Layout(height='25px', width='50%'),…"
      ]
     },
     "metadata": {},
     "output_type": "display_data"
    },
    {
     "name": "stdout",
     "output_type": "stream",
     "text": [
      "gbm Model Build progress: [###############################################] 100%"
     ]
    }
   ],
   "source": [
    "start_time_GB = time.time()\n",
    "from h2o.estimators.gbm import H2OGradientBoostingEstimator\n",
    "\n",
    "model_gbm = H2OGradientBoostingEstimator(ntrees=50,\n",
    "                                         max_depth=6,\n",
    "                                         learn_rate=0.1,\n",
    "                                         nfolds=n_folds,\n",
    "                                         fold_assignment=fold_assignment,\n",
    "                                         keep_cross_validation_predictions=keep_cross_validation_predictions,\n",
    "                                         distribution=\"multinomial\")\n",
    "model_gbm.train(x=predictors,\n",
    "                y=response,\n",
    "                training_frame=train_h2o)\n",
    "\n",
    "end_time_GB = time.time() - start_time_GB"
   ]
  },
  {
   "cell_type": "code",
   "execution_count": 11,
   "metadata": {},
   "outputs": [
    {
     "data": {
      "application/vnd.jupyter.widget-view+json": {
       "model_id": "922f9180c71040fb999bcd8652c9c293",
       "version_major": 2,
       "version_minor": 0
      },
      "text/plain": [
       "VBox()"
      ]
     },
     "metadata": {},
     "output_type": "display_data"
    },
    {
     "data": {
      "application/vnd.jupyter.widget-view+json": {
       "model_id": "",
       "version_major": 2,
       "version_minor": 0
      },
      "text/plain": [
       "FloatProgress(value=0.0, bar_style='info', description='Progress:', layout=Layout(height='25px', width='50%'),…"
      ]
     },
     "metadata": {},
     "output_type": "display_data"
    },
    {
     "name": "stdout",
     "output_type": "stream",
     "text": [
      "292.74765825271606\n",
      "203.1637613773346\n",
      "58.72330665588379"
     ]
    }
   ],
   "source": [
    "print (end_time_total)\n",
    "print (end_time_model)\n",
    "print (end_time_GB)"
   ]
  },
  {
   "cell_type": "code",
   "execution_count": 12,
   "metadata": {},
   "outputs": [
    {
     "data": {
      "application/vnd.jupyter.widget-view+json": {
       "model_id": "d8ee856b710643c5a4481b510f242888",
       "version_major": 2,
       "version_minor": 0
      },
      "text/plain": [
       "VBox()"
      ]
     },
     "metadata": {},
     "output_type": "display_data"
    },
    {
     "data": {
      "application/vnd.jupyter.widget-view+json": {
       "model_id": "",
       "version_major": 2,
       "version_minor": 0
      },
      "text/plain": [
       "FloatProgress(value=0.0, bar_style='info', description='Progress:', layout=Layout(height='25px', width='50%'),…"
      ]
     },
     "metadata": {},
     "output_type": "display_data"
    },
    {
     "name": "stdout",
     "output_type": "stream",
     "text": [
      "Model Details\n",
      "=============\n",
      "H2ODeepLearningEstimator :  Deep Learning\n",
      "Model Key:  DeepLearning_model_python_1579235981139_1\n",
      "\n",
      "\n",
      "Status of Neuron Layers: predicting label, 3-class classification, multinomial distribution, CrossEntropy loss, 44,003 weights/biases, 525.5 KB, 2,301,704 training samples, mini-batch size 1\n",
      "    layer    units    type       dropout    l1    l2    mean_rate             rate_rms             momentum    mean_weight            weight_rms           mean_bias             bias_rms\n",
      "--  -------  -------  ---------  ---------  ----  ----  --------------------  -------------------  ----------  ---------------------  -------------------  --------------------  -------------------\n",
      "    1        15       Input      0.0\n",
      "    2        200      Rectifier  0.0        0.0   0.0   0.013772237491813333  0.01157400757074356  0.0         -0.004195501443454608  0.1740310788154602   -0.568648045584691    0.22358930110931396\n",
      "    3        200      Rectifier  0.0        0.0   0.0   0.09963003917039459   0.12254887819290161  0.0         -0.028425965043712087  0.09488222002983093  -0.28488492901904666  0.3686622381210327\n",
      "    4        3        Softmax               0.0   0.0   0.014376651299583803  0.00929524376988411  0.0         -0.26860602537790934   0.631974458694458    -7.980559256269536    0.28639066219329834\n",
      "\n",
      "\n",
      "ModelMetricsMultinomial: deeplearning\n",
      "** Reported on train data. **\n",
      "\n",
      "MSE: 0.37808652003764937\n",
      "RMSE: 0.6148874043576185\n",
      "LogLoss: 0.9890692932964236\n",
      "Mean Per-Class Error: 0.5566454915143592\n",
      "\n",
      "Confusion Matrix: Row labels: Actual class; Column labels: Predicted class\n",
      "0     1     2    Error     Rate\n",
      "----  ----  ---  --------  --------------\n",
      "3565  709   117  0.188112  826 / 4,391\n",
      "1583  1232  224  0.594603  1,807 / 3,039\n",
      "1240  1065  293  0.887221  2,305 / 2,598\n",
      "6388  3006  634  0.492421  4,938 / 10,028\n",
      "\n",
      "Top-3 Hit Ratios: \n",
      "k    hit_ratio\n",
      "---  -----------\n",
      "1    0.507579\n",
      "2    0.800658\n",
      "3    1\n",
      "\n",
      "ModelMetricsMultinomial: deeplearning\n",
      "** Reported on cross-validation data. **\n",
      "\n",
      "MSE: 0.38209311444298094\n",
      "RMSE: 0.6181368088400665\n",
      "LogLoss: 0.9938150436183945\n",
      "Mean Per-Class Error: 0.5453877701335117\n",
      "\n",
      "Confusion Matrix: Row labels: Actual class; Column labels: Predicted class\n",
      "0       1      2      Error     Rate\n",
      "------  -----  -----  --------  -----------------\n",
      "77460   9857   9578   0.200578  19,435 / 96,895\n",
      "34416   14994  17471  0.775811  51,887 / 66,881\n",
      "26841   11738  19894  0.659775  38,579 / 58,473\n",
      "138717  36589  46943  0.494495  109,901 / 222,249\n",
      "\n",
      "Top-3 Hit Ratios: \n",
      "k    hit_ratio\n",
      "---  -----------\n",
      "1    0.505505\n",
      "2    0.798537\n",
      "3    1\n",
      "\n",
      "Cross-Validation Metrics Summary: \n",
      "                         mean      sd           cv_1_valid    cv_2_valid    cv_3_valid\n",
      "-----------------------  --------  -----------  ------------  ------------  ------------\n",
      "accuracy                 0.505505  0.000896635  0.504556      0.505622      0.506337\n",
      "err                      0.494495  0.000896635  0.495444      0.494378      0.493663\n",
      "err_count                36633.7   66.4254      36704         36625         36572\n",
      "logloss                  0.993815  0.000804301  0.994711      0.993577      0.993156\n",
      "max_per_class_error      0.791172  0.0415106    0.838692      0.772844      0.76198\n",
      "mean_per_class_accuracy  0.454627  0.00550751   0.457287      0.4583        0.448295\n",
      "mean_per_class_error     0.545373  0.00550751   0.542713      0.5417        0.551705\n",
      "mse                      0.382093  0.00169097   0.383287      0.382834      0.380158\n",
      "r2                       0.429016  0.00242245   0.427         0.428344      0.431703\n",
      "rmse                     0.618136  0.0013686    0.619102      0.618736      0.61657\n",
      "\n",
      "Scoring History: \n",
      "    timestamp            duration          training_speed    epochs    iterations    samples      training_rmse    training_logloss    training_r2    training_classification_error\n",
      "--  -------------------  ----------------  ----------------  --------  ------------  -----------  ---------------  ------------------  -------------  -------------------------------\n",
      "    2020-01-17 04:42:30  0.000 sec                           0         0             0            nan              nan                 nan            nan\n",
      "    2020-01-17 04:42:38  2 min 40.995 sec  12720 obs/sec     0.448717  1             99727        0.629426         1.02356             0.404226       0.520144\n",
      "    2020-01-17 04:42:43  2 min 46.328 sec  22956 obs/sec     1.34879   3             299767       0.616421         1.01781             0.428591       0.501396\n",
      "    2020-01-17 04:42:49  2 min 52.048 sec  32135 obs/sec     2.69952   6             599966       0.617006         0.997244            0.427507       0.504188\n",
      "    2020-01-17 04:42:54  2 min 57.466 sec  37554 obs/sec     4.0502    9             900153       0.618809         1.00061             0.424155       0.508277\n",
      "    2020-01-17 04:43:00  3 min  2.729 sec  41219 obs/sec     5.40078   12            1.20032e+06  0.613655         0.98762             0.433707       0.491125\n",
      "    2020-01-17 04:43:05  3 min  7.868 sec  43938 obs/sec     6.75142   15            1.5005e+06   0.613662         0.98641             0.433696       0.490925\n",
      "    2020-01-17 04:43:10  3 min 13.110 sec  45837 obs/sec     8.1012    18            1.80048e+06  0.614992         0.986366            0.431238       0.493418\n",
      "    2020-01-17 04:43:15  3 min 18.249 sec  47418 obs/sec     9.45413   21            2.10117e+06  0.614619         0.987007            0.431927       0.491623\n",
      "    2020-01-17 04:43:18  3 min 21.654 sec  48351 obs/sec     10.3564   23            2.3017e+06   0.614887         0.989069            0.431431       0.492421\n",
      "\n",
      "Variable Importances: \n",
      "variable                   relative_importance    scaled_importance    percentage\n",
      "-------------------------  ---------------------  -------------------  ------------\n",
      "num_prev_so                1                      1                    0.0840986\n",
      "time_light_sleep           0.973583               0.973583             0.0818769\n",
      "time_elapsed_since_asleep  0.954397               0.954397             0.0802634\n",
      "curr_sleep_stage           0.863631               0.863631             0.0726302\n",
      "eeg_min                    0.851688               0.851688             0.0716258\n",
      "time_deep_sleep            0.8314                 0.8314               0.0699195\n",
      "eeg_max                    0.828583               0.828583             0.0696827\n",
      "amp_curr_so                0.816999               0.816999             0.0687084\n",
      "time_wake_sleep            0.702001               0.702001             0.0590373\n",
      "duration_curr_so           0.701736               0.701736             0.059015\n",
      "eeg_mean                   0.695278               0.695278             0.0584719\n",
      "mean_amp_prev_so           0.689626               0.689626             0.0579965\n",
      "time_rem_sleep             0.679147               0.679147             0.0571153\n",
      "eeg_median                 0.668513               0.668513             0.056221\n",
      "mean_duration_prev_so      0.634224               0.634224             0.0533374"
     ]
    }
   ],
   "source": [
    "model_dl"
   ]
  },
  {
   "cell_type": "code",
   "execution_count": 14,
   "metadata": {},
   "outputs": [
    {
     "data": {
      "application/vnd.jupyter.widget-view+json": {
       "model_id": "09d4dac150c64027ada2b4e18ca24621",
       "version_major": 2,
       "version_minor": 0
      },
      "text/plain": [
       "VBox()"
      ]
     },
     "metadata": {},
     "output_type": "display_data"
    },
    {
     "data": {
      "application/vnd.jupyter.widget-view+json": {
       "model_id": "",
       "version_major": 2,
       "version_minor": 0
      },
      "text/plain": [
       "FloatProgress(value=0.0, bar_style='info', description='Progress:', layout=Layout(height='25px', width='50%'),…"
      ]
     },
     "metadata": {},
     "output_type": "display_data"
    },
    {
     "name": "stdout",
     "output_type": "stream",
     "text": [
      "Model Details\n",
      "=============\n",
      "H2OGradientBoostingEstimator :  Gradient Boosting Machine\n",
      "Model Key:  GBM_model_python_1579235981139_2\n",
      "\n",
      "\n",
      "Model Summary: \n",
      "    number_of_trees    number_of_internal_trees    model_size_in_bytes    min_depth    max_depth    mean_depth    min_leaves    max_leaves    mean_leaves\n",
      "--  -----------------  --------------------------  ---------------------  -----------  -----------  ------------  ------------  ------------  -------------\n",
      "    50                 150                         119742                 6            6            6             31            64            58.9067\n",
      "\n",
      "\n",
      "ModelMetricsMultinomial: gbm\n",
      "** Reported on train data. **\n",
      "\n",
      "MSE: 0.3711089997005039\n",
      "RMSE: 0.6091871631120471\n",
      "LogLoss: 0.968923223965099\n",
      "Mean Per-Class Error: 0.5221222967577579\n",
      "\n",
      "Confusion Matrix: Row labels: Actual class; Column labels: Predicted class\n",
      "0       1      2      Error     Rate\n",
      "------  -----  -----  --------  -----------------\n",
      "77340   13133  6422   0.201816  19,555 / 96,895\n",
      "32364   22856  11661  0.658259  44,025 / 66,881\n",
      "25247   16052  17174  0.706292  41,299 / 58,473\n",
      "134951  52041  35257  0.471899  104,879 / 222,249\n",
      "\n",
      "Top-3 Hit Ratios: \n",
      "k    hit_ratio\n",
      "---  -----------\n",
      "1    0.528101\n",
      "2    0.815788\n",
      "3    1\n",
      "\n",
      "ModelMetricsMultinomial: gbm\n",
      "** Reported on cross-validation data. **\n",
      "\n",
      "MSE: 0.3780109208902335\n",
      "RMSE: 0.6148259273080744\n",
      "LogLoss: 0.9861963597463159\n",
      "Mean Per-Class Error: 0.5394139720701029\n",
      "\n",
      "Confusion Matrix: Row labels: Actual class; Column labels: Predicted class\n",
      "0       1      2      Error     Rate\n",
      "------  -----  -----  --------  -----------------\n",
      "76429   13611  6855   0.211218  20,466 / 96,895\n",
      "32782   21500  12599  0.678534  45,381 / 66,881\n",
      "25567   17030  15876  0.72849   42,597 / 58,473\n",
      "134778  52141  35330  0.487939  108,444 / 222,249\n",
      "\n",
      "Top-3 Hit Ratios: \n",
      "k    hit_ratio\n",
      "---  -----------\n",
      "1    0.512061\n",
      "2    0.802586\n",
      "3    1\n",
      "\n",
      "Cross-Validation Metrics Summary: \n",
      "                         mean      sd           cv_1_valid    cv_2_valid    cv_3_valid\n",
      "-----------------------  --------  -----------  ------------  ------------  ------------\n",
      "accuracy                 0.512061  0.00140305   0.511278      0.513681      0.511224\n",
      "err                      0.487939  0.00140305   0.488722      0.486319      0.488776\n",
      "err_count                36148     103.942      36206         36028         36210\n",
      "logloss                  0.986196  0.000741607  0.986657      0.985341      0.986591\n",
      "max_per_class_error      0.728489  0.00432995   0.727338      0.724851      0.733279\n",
      "mean_per_class_accuracy  0.460591  0.00167605   0.460165      0.462439      0.459169\n",
      "mean_per_class_error     0.539409  0.00167605   0.539835      0.537561      0.540831\n",
      "mse                      0.378011  0.000174071  0.37818       0.377832      0.37802\n",
      "r2                       0.435116  0.00061754   0.434635      0.435812      0.4349\n",
      "rmse                     0.614826  0.000141562  0.614964      0.614681      0.614833\n",
      "\n",
      "Scoring History: \n",
      "    timestamp            duration    number_of_trees    training_rmse    training_logloss    training_classification_error\n",
      "--  -------------------  ----------  -----------------  ---------------  ------------------  -------------------------------\n",
      "    2020-01-17 04:44:08  47.500 sec  0                  0.666667         1.09861             0.650014\n",
      "    2020-01-17 04:44:09  48.010 sec  1                  0.659957         1.07922             0.495237\n",
      "    2020-01-17 04:44:09  48.245 sec  2                  0.654163         1.06358             0.495264\n",
      "    2020-01-17 04:44:09  48.466 sec  3                  0.649163         1.05083             0.493721\n",
      "    2020-01-17 04:44:09  48.687 sec  4                  0.64485          1.04037             0.493226\n",
      "    2020-01-17 04:44:10  48.904 sec  5                  0.641141         1.03177             0.49261\n",
      "    2020-01-17 04:44:10  49.131 sec  6                  0.637933         1.02463             0.492119\n",
      "    2020-01-17 04:44:10  49.350 sec  7                  0.635161         1.01867             0.491579\n",
      "    2020-01-17 04:44:10  49.576 sec  8                  0.632745         1.01363             0.490594\n",
      "    2020-01-17 04:44:11  49.799 sec  9                  0.630657         1.00945             0.489959\n",
      "    2020-01-17 04:44:11  50.034 sec  10                 0.628813         1.00584             0.489015\n",
      "    2020-01-17 04:44:11  50.255 sec  11                 0.627177         1.00272             0.488875\n",
      "    2020-01-17 04:44:11  50.472 sec  12                 0.625763         1.0001              0.487926\n",
      "    2020-01-17 04:44:11  50.691 sec  13                 0.624485         0.997771            0.487656\n",
      "    2020-01-17 04:44:12  50.909 sec  14                 0.623361         0.995768            0.487237\n",
      "    2020-01-17 04:44:12  51.125 sec  15                 0.622347         0.993995            0.486661\n",
      "    2020-01-17 04:44:12  51.341 sec  16                 0.621443         0.992437            0.486414\n",
      "    2020-01-17 04:44:16  55.390 sec  36                 0.611848         0.97449             0.475701\n",
      "    2020-01-17 04:44:19  58.167 sec  50                 0.609187         0.968923            0.471899\n",
      "\n",
      "Variable Importances: \n",
      "variable                   relative_importance    scaled_importance    percentage\n",
      "-------------------------  ---------------------  -------------------  ------------\n",
      "curr_sleep_stage           34932.9                1                    0.43048\n",
      "eeg_max                    13029.8                0.372996             0.160567\n",
      "eeg_median                 5027.74                0.143926             0.0619573\n",
      "mean_duration_prev_so      4159.51                0.119072             0.051258\n",
      "duration_curr_so           3982.39                0.114001             0.0490753\n",
      "eeg_min                    3848.5                 0.110168             0.0474254\n",
      "eeg_mean                   2799.66                0.0801441            0.0345005\n",
      "time_elapsed_since_asleep  2773.98                0.0794089            0.034184\n",
      "mean_amp_prev_so           2436.09                0.0697362            0.0300201\n",
      "num_prev_so                2384.79                0.0682679            0.029388\n",
      "amp_curr_so                2101.7                 0.060164             0.0258994\n",
      "time_wake_sleep            1750.92                0.0501223            0.0215767\n",
      "time_deep_sleep            844.57                 0.0241769            0.0104077\n",
      "time_light_sleep           645.264                0.0184716            0.00795164\n",
      "time_rem_sleep             430.773                0.0123314            0.00530845"
     ]
    }
   ],
   "source": [
    "model_gbm"
   ]
  },
  {
   "cell_type": "code",
   "execution_count": null,
   "metadata": {},
   "outputs": [],
   "source": []
  }
 ],
 "metadata": {
  "kernelspec": {
   "display_name": "PySpark",
   "language": "",
   "name": "pysparkkernel"
  },
  "language_info": {
   "codemirror_mode": {
    "name": "python",
    "version": 2
   },
   "mimetype": "text/x-python",
   "name": "pyspark",
   "pygments_lexer": "python2"
  }
 },
 "nbformat": 4,
 "nbformat_minor": 2
}
