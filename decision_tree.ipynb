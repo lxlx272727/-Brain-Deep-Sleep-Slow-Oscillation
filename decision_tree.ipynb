{
 "cells": [
  {
   "cell_type": "code",
   "execution_count": 1,
   "metadata": {},
   "outputs": [
    {
     "data": {
      "application/vnd.jupyter.widget-view+json": {
       "model_id": "1626fe4f18a94e349a5367bf6fd7a9ed",
       "version_major": 2,
       "version_minor": 0
      },
      "text/plain": [
       "VBox()"
      ]
     },
     "metadata": {},
     "output_type": "display_data"
    },
    {
     "name": "stdout",
     "output_type": "stream",
     "text": [
      "Starting Spark application\n"
     ]
    },
    {
     "data": {
      "text/html": [
       "<table>\n",
       "<tr><th>ID</th><th>YARN Application ID</th><th>Kind</th><th>State</th><th>Spark UI</th><th>Driver log</th><th>Current session?</th></tr><tr><td>4</td><td>application_1579211849443_0005</td><td>pyspark</td><td>idle</td><td></td><td></td><td>✔</td></tr></table>"
      ],
      "text/plain": [
       "<IPython.core.display.HTML object>"
      ]
     },
     "metadata": {},
     "output_type": "display_data"
    },
    {
     "data": {
      "application/vnd.jupyter.widget-view+json": {
       "model_id": "",
       "version_major": 2,
       "version_minor": 0
      },
      "text/plain": [
       "FloatProgress(value=0.0, bar_style='info', description='Progress:', layout=Layout(height='25px', width='50%'),…"
      ]
     },
     "metadata": {},
     "output_type": "display_data"
    },
    {
     "name": "stdout",
     "output_type": "stream",
     "text": [
      "SparkSession available as 'spark'.\n"
     ]
    },
    {
     "data": {
      "application/vnd.jupyter.widget-view+json": {
       "model_id": "",
       "version_major": 2,
       "version_minor": 0
      },
      "text/plain": [
       "FloatProgress(value=0.0, bar_style='info', description='Progress:', layout=Layout(height='25px', width='50%'),…"
      ]
     },
     "metadata": {},
     "output_type": "display_data"
    },
    {
     "name": "stdout",
     "output_type": "stream",
     "text": [
      "<SparkContext master=yarn appName=livy-session-4>"
     ]
    }
   ],
   "source": [
    "sc"
   ]
  },
  {
   "cell_type": "code",
   "execution_count": 2,
   "metadata": {},
   "outputs": [
    {
     "data": {
      "application/vnd.jupyter.widget-view+json": {
       "model_id": "91a9a8e7bc47492089de78ea955ef401",
       "version_major": 2,
       "version_minor": 0
      },
      "text/plain": [
       "VBox()"
      ]
     },
     "metadata": {},
     "output_type": "display_data"
    },
    {
     "data": {
      "application/vnd.jupyter.widget-view+json": {
       "model_id": "",
       "version_major": 2,
       "version_minor": 0
      },
      "text/plain": [
       "FloatProgress(value=0.0, bar_style='info', description='Progress:', layout=Layout(height='25px', width='50%'),…"
      ]
     },
     "metadata": {},
     "output_type": "display_data"
    }
   ],
   "source": [
    "import numpy as np\n",
    "from pyspark.sql import SparkSession\n",
    "from pyspark.sql.types import *\n",
    "from pyspark.ml.feature import VectorAssembler\n",
    "from pyspark.ml.classification import DecisionTreeClassifier\n",
    "from pyspark.ml.evaluation import MulticlassClassificationEvaluator\n",
    "from pyspark.ml.tuning import CrossValidator\n",
    "from pyspark.ml.tuning import ParamGridBuilder\n",
    "\n",
    "ss = SparkSession.builder.getOrCreate()"
   ]
  },
  {
   "cell_type": "markdown",
   "metadata": {},
   "source": [
    "## Load data from S3"
   ]
  },
  {
   "cell_type": "code",
   "execution_count": 3,
   "metadata": {},
   "outputs": [
    {
     "data": {
      "application/vnd.jupyter.widget-view+json": {
       "model_id": "2c64edeae824443c9d339cfb470c2e85",
       "version_major": 2,
       "version_minor": 0
      },
      "text/plain": [
       "VBox()"
      ]
     },
     "metadata": {},
     "output_type": "display_data"
    },
    {
     "data": {
      "application/vnd.jupyter.widget-view+json": {
       "model_id": "",
       "version_major": 2,
       "version_minor": 0
      },
      "text/plain": [
       "FloatProgress(value=0.0, bar_style='info', description='Progress:', layout=Layout(height='25px', width='50%'),…"
      ]
     },
     "metadata": {},
     "output_type": "display_data"
    }
   ],
   "source": [
    "data_path = \"s3://msds694-group15/slow.csv\"\n",
    "data = ss.read.csv(data_path, inferSchema=True, header=True)"
   ]
  },
  {
   "cell_type": "markdown",
   "metadata": {},
   "source": [
    "## Data preprocessing"
   ]
  },
  {
   "cell_type": "code",
   "execution_count": 4,
   "metadata": {},
   "outputs": [
    {
     "data": {
      "application/vnd.jupyter.widget-view+json": {
       "model_id": "1469c272df454042a4a258a428dd5a85",
       "version_major": 2,
       "version_minor": 0
      },
      "text/plain": [
       "VBox()"
      ]
     },
     "metadata": {},
     "output_type": "display_data"
    },
    {
     "data": {
      "application/vnd.jupyter.widget-view+json": {
       "model_id": "",
       "version_major": 2,
       "version_minor": 0
      },
      "text/plain": [
       "FloatProgress(value=0.0, bar_style='info', description='Progress:', layout=Layout(height='25px', width='50%'),…"
      ]
     },
     "metadata": {},
     "output_type": "display_data"
    }
   ],
   "source": [
    "processed_rdd = data.rdd\\\n",
    "                    .map(lambda x: list(x[0:11])\n",
    "                         + [min(x[11:]), max(x[11:]), float(np.mean(x[11:])), float(np.median(x[11:]))]\n",
    "                         + [x[-1]])"
   ]
  },
  {
   "cell_type": "code",
   "execution_count": 5,
   "metadata": {},
   "outputs": [
    {
     "data": {
      "application/vnd.jupyter.widget-view+json": {
       "model_id": "04cf338cbbf54dfe85551016d96f72e4",
       "version_major": 2,
       "version_minor": 0
      },
      "text/plain": [
       "VBox()"
      ]
     },
     "metadata": {},
     "output_type": "display_data"
    },
    {
     "data": {
      "application/vnd.jupyter.widget-view+json": {
       "model_id": "",
       "version_major": 2,
       "version_minor": 0
      },
      "text/plain": [
       "FloatProgress(value=0.0, bar_style='info', description='Progress:', layout=Layout(height='25px', width='50%'),…"
      ]
     },
     "metadata": {},
     "output_type": "display_data"
    },
    {
     "name": "stdout",
     "output_type": "stream",
     "text": [
      "root\n",
      " |-- num_prev_so: integer (nullable = true)\n",
      " |-- mean_amp_prev_so: double (nullable = true)\n",
      " |-- mean_duration_prev_so: double (nullable = true)\n",
      " |-- amp_curr_so: double (nullable = true)\n",
      " |-- duration_curr_so: integer (nullable = true)\n",
      " |-- curr_sleep_stage: integer (nullable = true)\n",
      " |-- time_elapsed_since_asleep: integer (nullable = true)\n",
      " |-- time_deep_sleep: integer (nullable = true)\n",
      " |-- time_light_sleep: integer (nullable = true)\n",
      " |-- time_rem_sleep: integer (nullable = true)\n",
      " |-- time_wake_sleep: integer (nullable = true)\n",
      " |-- eeg_min: double (nullable = true)\n",
      " |-- eeg_max: double (nullable = true)\n",
      " |-- eeg_mean: double (nullable = true)\n",
      " |-- eeg_median: double (nullable = true)\n",
      " |-- label: integer (nullable = true)\n",
      "\n",
      "+-----------+------------------+---------------------+-----------+----------------+----------------+-------------------------+---------------+----------------+--------------+---------------+--------+-------+--------------------+-----------------+-----+\n",
      "|num_prev_so|  mean_amp_prev_so|mean_duration_prev_so|amp_curr_so|duration_curr_so|curr_sleep_stage|time_elapsed_since_asleep|time_deep_sleep|time_light_sleep|time_rem_sleep|time_wake_sleep| eeg_min|eeg_max|            eeg_mean|       eeg_median|label|\n",
      "+-----------+------------------+---------------------+-----------+----------------+----------------+-------------------------+---------------+----------------+--------------+---------------+--------+-------+--------------------+-----------------+-----+\n",
      "|        237|           152.659|              341.523|    128.017|             429|               3|                    11379|           2730|            3780|             0|            480|-258.302|211.599|  11.400369923021584|          11.0302|    0|\n",
      "|        176|146.88299999999995|               338.04|    119.131|             196|               2|                     6721|           2580|            2100|             0|            480|-97.9233|70.1037| -1.2208607163069545|         -1.12336|    1|\n",
      "|        456|           152.377|              335.629|    164.293|             417|               2|                    26832|           3240|            7440|          2130|            750|-121.882|117.155|  3.5453129177458025|7.720039999999999|    1|\n",
      "|         21|           139.721|              336.286|    159.237|             407|               3|                     1289|              0|              60|             0|            450|-110.453|92.3682|-0.11853414580335754|         -3.48321|    1|\n",
      "|         72|           140.649|              349.875|    130.184|             297|               3|                     2262|            630|             960|             0|            450|-119.812|105.522|    1.42210017186251|        -0.786747|    2|\n",
      "+-----------+------------------+---------------------+-----------+----------------+----------------+-------------------------+---------------+----------------+--------------+---------------+--------+-------+--------------------+-----------------+-----+\n",
      "only showing top 5 rows"
     ]
    }
   ],
   "source": [
    "schema = StructType([StructField(\"num_prev_so\", IntegerType(), True),\n",
    "                     StructField(\"mean_amp_prev_so\", DoubleType(), True),\n",
    "                     StructField(\"mean_duration_prev_so\", DoubleType(), True),\n",
    "                     StructField(\"amp_curr_so\", DoubleType(), True),\n",
    "                     StructField(\"duration_curr_so\", IntegerType(), True),\n",
    "                     StructField(\"curr_sleep_stage\", IntegerType(), True),\n",
    "                     StructField(\"time_elapsed_since_asleep\", IntegerType(), True),\n",
    "                     StructField(\"time_deep_sleep\", IntegerType(), True),\n",
    "                     StructField(\"time_light_sleep\", IntegerType(), True),\n",
    "                     StructField(\"time_rem_sleep\", IntegerType(), True),\n",
    "                     StructField(\"time_wake_sleep\", IntegerType(), True),\n",
    "                     StructField(\"eeg_min\", DoubleType(), True),\n",
    "                     StructField(\"eeg_max\", DoubleType(), True),\n",
    "                     StructField(\"eeg_mean\", DoubleType(), True),\n",
    "                     StructField(\"eeg_median\", DoubleType(), True),\n",
    "                     StructField(\"label\", IntegerType(), True)\n",
    "                    ])\n",
    "data_preprocessed = ss.createDataFrame(processed_rdd, schema)\n",
    "data_preprocessed.printSchema()\n",
    "data_preprocessed.show(5)"
   ]
  },
  {
   "cell_type": "markdown",
   "metadata": {},
   "source": [
    "## Write processed data to HDFS"
   ]
  },
  {
   "cell_type": "code",
   "execution_count": 18,
   "metadata": {},
   "outputs": [
    {
     "data": {
      "application/vnd.jupyter.widget-view+json": {
       "model_id": "364735d29afe41fe84c4d38474b549a0",
       "version_major": 2,
       "version_minor": 0
      },
      "text/plain": [
       "VBox()"
      ]
     },
     "metadata": {},
     "output_type": "display_data"
    },
    {
     "data": {
      "application/vnd.jupyter.widget-view+json": {
       "model_id": "",
       "version_major": 2,
       "version_minor": 0
      },
      "text/plain": [
       "FloatProgress(value=0.0, bar_style='info', description='Progress:', layout=Layout(height='25px', width='50%'),…"
      ]
     },
     "metadata": {},
     "output_type": "display_data"
    }
   ],
   "source": [
    "data_preprocessed.write.option(\"path\", \"/data\").saveAsTable('data8')"
   ]
  },
  {
   "cell_type": "markdown",
   "metadata": {},
   "source": [
    "## Read data from HDFS"
   ]
  },
  {
   "cell_type": "code",
   "execution_count": 19,
   "metadata": {},
   "outputs": [
    {
     "data": {
      "application/vnd.jupyter.widget-view+json": {
       "model_id": "bd13b353d83642988aa2a4ded90ff445",
       "version_major": 2,
       "version_minor": 0
      },
      "text/plain": [
       "VBox()"
      ]
     },
     "metadata": {},
     "output_type": "display_data"
    },
    {
     "data": {
      "application/vnd.jupyter.widget-view+json": {
       "model_id": "",
       "version_major": 2,
       "version_minor": 0
      },
      "text/plain": [
       "FloatProgress(value=0.0, bar_style='info', description='Progress:', layout=Layout(height='25px', width='50%'),…"
      ]
     },
     "metadata": {},
     "output_type": "display_data"
    }
   ],
   "source": [
    "import time\n",
    "start = time.time()"
   ]
  },
  {
   "cell_type": "code",
   "execution_count": 20,
   "metadata": {},
   "outputs": [
    {
     "data": {
      "application/vnd.jupyter.widget-view+json": {
       "model_id": "78900f96c90f4b3dadae357ceb8f3ce7",
       "version_major": 2,
       "version_minor": 0
      },
      "text/plain": [
       "VBox()"
      ]
     },
     "metadata": {},
     "output_type": "display_data"
    },
    {
     "data": {
      "application/vnd.jupyter.widget-view+json": {
       "model_id": "",
       "version_major": 2,
       "version_minor": 0
      },
      "text/plain": [
       "FloatProgress(value=0.0, bar_style='info', description='Progress:', layout=Layout(height='25px', width='50%'),…"
      ]
     },
     "metadata": {},
     "output_type": "display_data"
    },
    {
     "name": "stdout",
     "output_type": "stream",
     "text": [
      "+-----------+------------------+---------------------+------------------+----------------+----------------+-------------------------+---------------+----------------+--------------+---------------+-------------------+-------+-------------------+------------------+-----+\n",
      "|num_prev_so|  mean_amp_prev_so|mean_duration_prev_so|       amp_curr_so|duration_curr_so|curr_sleep_stage|time_elapsed_since_asleep|time_deep_sleep|time_light_sleep|time_rem_sleep|time_wake_sleep|            eeg_min|eeg_max|           eeg_mean|        eeg_median|label|\n",
      "+-----------+------------------+---------------------+------------------+----------------+----------------+-------------------------+---------------+----------------+--------------+---------------+-------------------+-------+-------------------+------------------+-----+\n",
      "|         87|           149.343|              266.471|           204.406|             252|               3|                     2540|            420|             600|             0|           1560|            -109.03|134.534| 0.3667336334132688|           1.30413|    0|\n",
      "|        629|            153.59|              275.824|           116.967|             209|               3|                    10347|           5370|            9390|          1290|           2430|-135.55700000000002|119.423| 1.4240084677058353|          -1.32157|    1|\n",
      "|        608|153.35399999999996|              275.896|           157.118|             211|               3|                    10098|           5370|            9120|          1290|           2430|           -88.5736|81.5828| 1.7195768442845722|           4.46697|    2|\n",
      "|        737|            156.01|              276.448|           143.514|             206|               2|                    15629|           5370|            9390|          1320|           2490|           -100.218|52.3902|-0.6115496356354916|            2.1818|    0|\n",
      "|        115|           148.907|              269.374|242.71400000000003|             298|               3|                     2748|           1260|             600|             0|           1560|            -136.23|153.128| 1.6976152004796157|5.8388800000000005|    2|\n",
      "+-----------+------------------+---------------------+------------------+----------------+----------------+-------------------------+---------------+----------------+--------------+---------------+-------------------+-------+-------------------+------------------+-----+\n",
      "only showing top 5 rows"
     ]
    }
   ],
   "source": [
    "data_df = ss.sql(\"select * from parquet.`/data`\")\n",
    "data_df.show(5)"
   ]
  },
  {
   "cell_type": "markdown",
   "metadata": {},
   "source": [
    "## Train the decision tree model"
   ]
  },
  {
   "cell_type": "code",
   "execution_count": 21,
   "metadata": {},
   "outputs": [
    {
     "data": {
      "application/vnd.jupyter.widget-view+json": {
       "model_id": "f813759c439c43fdb14b99dbdd32d3e3",
       "version_major": 2,
       "version_minor": 0
      },
      "text/plain": [
       "VBox()"
      ]
     },
     "metadata": {},
     "output_type": "display_data"
    },
    {
     "data": {
      "application/vnd.jupyter.widget-view+json": {
       "model_id": "",
       "version_major": 2,
       "version_minor": 0
      },
      "text/plain": [
       "FloatProgress(value=0.0, bar_style='info', description='Progress:', layout=Layout(height='25px', width='50%'),…"
      ]
     },
     "metadata": {},
     "output_type": "display_data"
    }
   ],
   "source": [
    "va = VectorAssembler(outputCol=\"features\", inputCols=data_df.columns[0:-1])\n",
    "data_vec = va.transform(data_df).select(\"features\", \"label\")"
   ]
  },
  {
   "cell_type": "code",
   "execution_count": 22,
   "metadata": {},
   "outputs": [
    {
     "data": {
      "application/vnd.jupyter.widget-view+json": {
       "model_id": "895c181b559845598b1ca7e9752b2ede",
       "version_major": 2,
       "version_minor": 0
      },
      "text/plain": [
       "VBox()"
      ]
     },
     "metadata": {},
     "output_type": "display_data"
    },
    {
     "data": {
      "application/vnd.jupyter.widget-view+json": {
       "model_id": "",
       "version_major": 2,
       "version_minor": 0
      },
      "text/plain": [
       "FloatProgress(value=0.0, bar_style='info', description='Progress:', layout=Layout(height='25px', width='50%'),…"
      ]
     },
     "metadata": {},
     "output_type": "display_data"
    },
    {
     "name": "stdout",
     "output_type": "stream",
     "text": [
      "+--------------------+-----+\n",
      "|            features|label|\n",
      "+--------------------+-----+\n",
      "|[87.0,149.343,266...|    0|\n",
      "|[629.0,153.59,275...|    1|\n",
      "|[608.0,153.353999...|    2|\n",
      "|[737.0,156.01,276...|    0|\n",
      "|[115.0,148.907,26...|    2|\n",
      "+--------------------+-----+\n",
      "only showing top 5 rows"
     ]
    }
   ],
   "source": [
    "data_vec.show(5)"
   ]
  },
  {
   "cell_type": "code",
   "execution_count": 23,
   "metadata": {},
   "outputs": [
    {
     "data": {
      "application/vnd.jupyter.widget-view+json": {
       "model_id": "ef2409f9d9024ad1b1e61926964590c6",
       "version_major": 2,
       "version_minor": 0
      },
      "text/plain": [
       "VBox()"
      ]
     },
     "metadata": {},
     "output_type": "display_data"
    },
    {
     "data": {
      "application/vnd.jupyter.widget-view+json": {
       "model_id": "",
       "version_major": 2,
       "version_minor": 0
      },
      "text/plain": [
       "FloatProgress(value=0.0, bar_style='info', description='Progress:', layout=Layout(height='25px', width='50%'),…"
      ]
     },
     "metadata": {},
     "output_type": "display_data"
    },
    {
     "name": "stdout",
     "output_type": "stream",
     "text": [
      "DataFrame[features: vector, label: int]"
     ]
    }
   ],
   "source": [
    "train_vec, valid_vec = data_vec.randomSplit([0.85, 0.15], seed=1)\n",
    "train_vec.cache()\n",
    "valid_vec.cache()"
   ]
  },
  {
   "cell_type": "code",
   "execution_count": 24,
   "metadata": {},
   "outputs": [
    {
     "data": {
      "application/vnd.jupyter.widget-view+json": {
       "model_id": "5952c62b149a4104a0d2db6bdea48130",
       "version_major": 2,
       "version_minor": 0
      },
      "text/plain": [
       "VBox()"
      ]
     },
     "metadata": {},
     "output_type": "display_data"
    },
    {
     "data": {
      "application/vnd.jupyter.widget-view+json": {
       "model_id": "",
       "version_major": 2,
       "version_minor": 0
      },
      "text/plain": [
       "FloatProgress(value=0.0, bar_style='info', description='Progress:', layout=Layout(height='25px', width='50%'),…"
      ]
     },
     "metadata": {},
     "output_type": "display_data"
    }
   ],
   "source": [
    "dt = DecisionTreeClassifier(seed=1)\n",
    "dtmodel = dt.fit(train_vec)"
   ]
  },
  {
   "cell_type": "code",
   "execution_count": 25,
   "metadata": {},
   "outputs": [
    {
     "data": {
      "application/vnd.jupyter.widget-view+json": {
       "model_id": "e9239c2e9eef452995264cb6a1ebd612",
       "version_major": 2,
       "version_minor": 0
      },
      "text/plain": [
       "VBox()"
      ]
     },
     "metadata": {},
     "output_type": "display_data"
    },
    {
     "data": {
      "application/vnd.jupyter.widget-view+json": {
       "model_id": "",
       "version_major": 2,
       "version_minor": 0
      },
      "text/plain": [
       "FloatProgress(value=0.0, bar_style='info', description='Progress:', layout=Layout(height='25px', width='50%'),…"
      ]
     },
     "metadata": {},
     "output_type": "display_data"
    },
    {
     "name": "stdout",
     "output_type": "stream",
     "text": [
      "0.494269851780166"
     ]
    }
   ],
   "source": [
    "dtpredicts = dtmodel.transform(valid_vec)\n",
    "metrics = MulticlassClassificationEvaluator()\\\n",
    "                .setLabelCol(\"label\")\\\n",
    "                .setPredictionCol(\"prediction\")\n",
    "metrics.setMetricName(\"accuracy\")\n",
    "metrics.evaluate(dtpredicts)"
   ]
  },
  {
   "cell_type": "markdown",
   "metadata": {},
   "source": [
    "## Cross validation"
   ]
  },
  {
   "cell_type": "code",
   "execution_count": 26,
   "metadata": {},
   "outputs": [
    {
     "data": {
      "application/vnd.jupyter.widget-view+json": {
       "model_id": "bdeadaa7a81d496581079c8f84476c6d",
       "version_major": 2,
       "version_minor": 0
      },
      "text/plain": [
       "VBox()"
      ]
     },
     "metadata": {},
     "output_type": "display_data"
    },
    {
     "data": {
      "application/vnd.jupyter.widget-view+json": {
       "model_id": "",
       "version_major": 2,
       "version_minor": 0
      },
      "text/plain": [
       "FloatProgress(value=0.0, bar_style='info', description='Progress:', layout=Layout(height='25px', width='50%'),…"
      ]
     },
     "metadata": {},
     "output_type": "display_data"
    }
   ],
   "source": [
    "evaluator = MulticlassClassificationEvaluator()\n",
    "evaluator.setMetricName(\"accuracy\")\n",
    "paramGrid = ParamGridBuilder().addGrid(dt.maxDepth, [5, 10, 15, 20, 25, 30]).build()\n",
    "cv = CrossValidator(estimator=dt, evaluator=evaluator, numFolds=5, estimatorParamMaps=paramGrid)\n",
    "cvmodel = cv.fit(train_vec)"
   ]
  },
  {
   "cell_type": "markdown",
   "metadata": {},
   "source": [
    "## Evaluate the best model"
   ]
  },
  {
   "cell_type": "code",
   "execution_count": 27,
   "metadata": {},
   "outputs": [
    {
     "data": {
      "application/vnd.jupyter.widget-view+json": {
       "model_id": "47a488c6dd454712ae9cfeba59a8be7c",
       "version_major": 2,
       "version_minor": 0
      },
      "text/plain": [
       "VBox()"
      ]
     },
     "metadata": {},
     "output_type": "display_data"
    },
    {
     "data": {
      "application/vnd.jupyter.widget-view+json": {
       "model_id": "",
       "version_major": 2,
       "version_minor": 0
      },
      "text/plain": [
       "FloatProgress(value=0.0, bar_style='info', description='Progress:', layout=Layout(height='25px', width='50%'),…"
      ]
     },
     "metadata": {},
     "output_type": "display_data"
    }
   ],
   "source": [
    "final_model = cvmodel.bestModel\n",
    "max_depth = final_model._java_obj.getMaxDepth()\n",
    "prediction = final_model.transform(valid_vec)\n",
    "evaluator.setMetricName(\"accuracy\")\n",
    "accuracy = evaluator.evaluate(prediction)\n",
    "evaluator.setMetricName(\"f1\")\n",
    "f1 = evaluator.evaluate(prediction)"
   ]
  },
  {
   "cell_type": "markdown",
   "metadata": {},
   "source": [
    "## Print results"
   ]
  },
  {
   "cell_type": "code",
   "execution_count": 28,
   "metadata": {},
   "outputs": [
    {
     "data": {
      "application/vnd.jupyter.widget-view+json": {
       "model_id": "b8d480c3f3b344c0815aae4b0ac8c92b",
       "version_major": 2,
       "version_minor": 0
      },
      "text/plain": [
       "VBox()"
      ]
     },
     "metadata": {},
     "output_type": "display_data"
    },
    {
     "data": {
      "application/vnd.jupyter.widget-view+json": {
       "model_id": "",
       "version_major": 2,
       "version_minor": 0
      },
      "text/plain": [
       "FloatProgress(value=0.0, bar_style='info', description='Progress:', layout=Layout(height='25px', width='50%'),…"
      ]
     },
     "metadata": {},
     "output_type": "display_data"
    },
    {
     "name": "stdout",
     "output_type": "stream",
     "text": [
      "Best max depth: 5\n",
      "Accuracy: 0.4943\n",
      "F1 score: 0.4657"
     ]
    }
   ],
   "source": [
    "print(f\"Best max depth: {max_depth}\")\n",
    "print(f\"Accuracy: {accuracy:.4f}\")\n",
    "print(f\"F1 score: {f1:.4f}\")"
   ]
  },
  {
   "cell_type": "code",
   "execution_count": 29,
   "metadata": {},
   "outputs": [
    {
     "data": {
      "application/vnd.jupyter.widget-view+json": {
       "model_id": "fd53b01a494444e4995c9eae34454f11",
       "version_major": 2,
       "version_minor": 0
      },
      "text/plain": [
       "VBox()"
      ]
     },
     "metadata": {},
     "output_type": "display_data"
    },
    {
     "data": {
      "application/vnd.jupyter.widget-view+json": {
       "model_id": "",
       "version_major": 2,
       "version_minor": 0
      },
      "text/plain": [
       "FloatProgress(value=0.0, bar_style='info', description='Progress:', layout=Layout(height='25px', width='50%'),…"
      ]
     },
     "metadata": {},
     "output_type": "display_data"
    },
    {
     "name": "stdout",
     "output_type": "stream",
     "text": [
      "299.1189522743225"
     ]
    }
   ],
   "source": [
    "end = time.time()\n",
    "end - start"
   ]
  }
 ],
 "metadata": {
  "kernelspec": {
   "display_name": "PySpark",
   "language": "",
   "name": "pysparkkernel"
  },
  "language_info": {
   "codemirror_mode": {
    "name": "python",
    "version": 2
   },
   "mimetype": "text/x-python",
   "name": "pyspark",
   "pygments_lexer": "python2"
  }
 },
 "nbformat": 4,
 "nbformat_minor": 2
}
