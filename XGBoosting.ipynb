{
 "cells": [
  {
   "cell_type": "code",
   "execution_count": 1,
   "metadata": {},
   "outputs": [
    {
     "data": {
      "application/vnd.jupyter.widget-view+json": {
       "model_id": "1ff910167a0c405680002185bfeb6ef6",
       "version_major": 2,
       "version_minor": 0
      },
      "text/plain": [
       "VBox()"
      ]
     },
     "metadata": {},
     "output_type": "display_data"
    },
    {
     "name": "stdout",
     "output_type": "stream",
     "text": [
      "Starting Spark application\n"
     ]
    },
    {
     "data": {
      "text/html": [
       "<table>\n",
       "<tr><th>ID</th><th>YARN Application ID</th><th>Kind</th><th>State</th><th>Spark UI</th><th>Driver log</th><th>Current session?</th></tr><tr><td>5</td><td>application_1579218525976_0006</td><td>pyspark</td><td>idle</td><td><a target=\"_blank\" href=\"http://ip-172-31-13-63.us-west-1.compute.internal:20888/proxy/application_1579218525976_0006/\">Link</a></td><td><a target=\"_blank\" href=\"http://ip-172-31-7-122.us-west-1.compute.internal:8042/node/containerlogs/container_1579218525976_0006_01_000001/livy\">Link</a></td><td>✔</td></tr></table>"
      ],
      "text/plain": [
       "<IPython.core.display.HTML object>"
      ]
     },
     "metadata": {},
     "output_type": "display_data"
    },
    {
     "data": {
      "application/vnd.jupyter.widget-view+json": {
       "model_id": "",
       "version_major": 2,
       "version_minor": 0
      },
      "text/plain": [
       "FloatProgress(value=0.0, bar_style='info', description='Progress:', layout=Layout(height='25px', width='50%'),…"
      ]
     },
     "metadata": {},
     "output_type": "display_data"
    },
    {
     "name": "stdout",
     "output_type": "stream",
     "text": [
      "SparkSession available as 'spark'.\n"
     ]
    },
    {
     "data": {
      "application/vnd.jupyter.widget-view+json": {
       "model_id": "",
       "version_major": 2,
       "version_minor": 0
      },
      "text/plain": [
       "FloatProgress(value=0.0, bar_style='info', description='Progress:', layout=Layout(height='25px', width='50%'),…"
      ]
     },
     "metadata": {},
     "output_type": "display_data"
    }
   ],
   "source": [
    "import numpy as np\n",
    "from pyspark.sql import SparkSession\n",
    "from pyspark.sql.types import *\n",
    "import pyspark\n",
    "\n",
    "ss = SparkSession.builder.getOrCreate()"
   ]
  },
  {
   "cell_type": "code",
   "execution_count": 2,
   "metadata": {},
   "outputs": [
    {
     "data": {
      "application/vnd.jupyter.widget-view+json": {
       "model_id": "8efdcea56e3a46c98aab6f96209cd70e",
       "version_major": 2,
       "version_minor": 0
      },
      "text/plain": [
       "VBox()"
      ]
     },
     "metadata": {},
     "output_type": "display_data"
    },
    {
     "data": {
      "application/vnd.jupyter.widget-view+json": {
       "model_id": "",
       "version_major": 2,
       "version_minor": 0
      },
      "text/plain": [
       "FloatProgress(value=0.0, bar_style='info', description='Progress:', layout=Layout(height='25px', width='50%'),…"
      ]
     },
     "metadata": {},
     "output_type": "display_data"
    }
   ],
   "source": [
    "import time\n",
    "begin_time = time.time()"
   ]
  },
  {
   "cell_type": "code",
   "execution_count": 3,
   "metadata": {},
   "outputs": [
    {
     "data": {
      "application/vnd.jupyter.widget-view+json": {
       "model_id": "3537354d29ce4fefa65181ee22f574c5",
       "version_major": 2,
       "version_minor": 0
      },
      "text/plain": [
       "VBox()"
      ]
     },
     "metadata": {},
     "output_type": "display_data"
    },
    {
     "data": {
      "application/vnd.jupyter.widget-view+json": {
       "model_id": "",
       "version_major": 2,
       "version_minor": 0
      },
      "text/plain": [
       "FloatProgress(value=0.0, bar_style='info', description='Progress:', layout=Layout(height='25px', width='50%'),…"
      ]
     },
     "metadata": {},
     "output_type": "display_data"
    }
   ],
   "source": [
    "data_preprocessed = ss.sql(\"select * from parquet.`/data`\")"
   ]
  },
  {
   "cell_type": "code",
   "execution_count": 4,
   "metadata": {},
   "outputs": [
    {
     "data": {
      "application/vnd.jupyter.widget-view+json": {
       "model_id": "f327261dd35e449e91b2773039f1487e",
       "version_major": 2,
       "version_minor": 0
      },
      "text/plain": [
       "VBox()"
      ]
     },
     "metadata": {},
     "output_type": "display_data"
    },
    {
     "data": {
      "application/vnd.jupyter.widget-view+json": {
       "model_id": "",
       "version_major": 2,
       "version_minor": 0
      },
      "text/plain": [
       "FloatProgress(value=0.0, bar_style='info', description='Progress:', layout=Layout(height='25px', width='50%'),…"
      ]
     },
     "metadata": {},
     "output_type": "display_data"
    },
    {
     "name": "stdout",
     "output_type": "stream",
     "text": [
      "DataFrame[num_prev_so: int, mean_amp_prev_so: double, mean_duration_prev_so: double, amp_curr_so: double, duration_curr_so: int, curr_sleep_stage: int, time_elapsed_since_asleep: int, time_deep_sleep: int, time_light_sleep: int, time_rem_sleep: int, time_wake_sleep: int, eeg_min: double, eeg_max: double, eeg_mean: double, eeg_median: double, label: int]"
     ]
    }
   ],
   "source": [
    "train_df, valid_df = data_preprocessed.randomSplit([0.85, 0.15], seed=1)\n",
    "train_df.cache()\n",
    "valid_df.cache()"
   ]
  },
  {
   "cell_type": "code",
   "execution_count": 5,
   "metadata": {},
   "outputs": [
    {
     "data": {
      "application/vnd.jupyter.widget-view+json": {
       "model_id": "27fb273ffb724ada90475392322bdd12",
       "version_major": 2,
       "version_minor": 0
      },
      "text/plain": [
       "VBox()"
      ]
     },
     "metadata": {},
     "output_type": "display_data"
    },
    {
     "data": {
      "application/vnd.jupyter.widget-view+json": {
       "model_id": "",
       "version_major": 2,
       "version_minor": 0
      },
      "text/plain": [
       "FloatProgress(value=0.0, bar_style='info', description='Progress:', layout=Layout(height='25px', width='50%'),…"
      ]
     },
     "metadata": {},
     "output_type": "display_data"
    },
    {
     "name": "stdout",
     "output_type": "stream",
     "text": [
      "Package                    Version\n",
      "-------------------------- -------\n",
      "beautifulsoup4             4.8.1  \n",
      "boto                       2.49.0 \n",
      "jmespath                   0.9.4  \n",
      "lxml                       4.4.1  \n",
      "mysqlclient                1.4.4  \n",
      "nltk                       3.4.5  \n",
      "nose                       1.3.4  \n",
      "numpy                      1.14.5 \n",
      "pip                        19.3.1 \n",
      "py-dateutil                2.2    \n",
      "python36-sagemaker-pyspark 1.2.6  \n",
      "pytz                       2019.3 \n",
      "PyYAML                     3.11   \n",
      "setuptools                 45.0.0 \n",
      "six                        1.12.0 \n",
      "soupsieve                  1.9.4  \n",
      "wheel                      0.33.6 \n",
      "windmill                   1.6    \n",
      "\n",
      "Processing /var/lib/livy/.cache/pip/wheels/0d/2f/d2/7e0c36c53b57ca597430858ab3d72e1a612a10780016ff6765/h2o_pysparkling_2.4-3.28.0.1.post1-py2.py3-none-any.whl\n",
      "Requirement already satisfied: numpy>=1.9.2 in /usr/local/lib64/python3.6/site-packages (from h2o-pysparkling-2.4) (1.14.5)\n",
      "Processing /var/lib/livy/.cache/pip/wheels/9c/9b/f4/eb243fdb89676ec00588e8c54bb54360724c06e7fafe95278e/tabulate-0.8.6-cp36-none-any.whl\n",
      "Processing /var/lib/livy/.cache/pip/wheels/ab/09/4d/0d184230058e654eb1b04467dbc1292f00eaa186544604b471/pyspark-2.4.4-py2.py3-none-any.whl\n",
      "Collecting colorama>=0.3.8\n",
      "  Using cached https://files.pythonhosted.org/packages/c9/dc/45cdef1b4d119eb96316b3117e6d5708a08029992b2fee2c143c7a0a5cc5/colorama-0.4.3-py2.py3-none-any.whl\n",
      "Collecting requests\n",
      "  Using cached https://files.pythonhosted.org/packages/51/bd/23c926cd341ea6b7dd0b2a00aba99ae0f828be89d72b2190f27c11d4b7fb/requests-2.22.0-py2.py3-none-any.whl\n",
      "Processing /var/lib/livy/.cache/pip/wheels/8b/99/a0/81daf51dcd359a9377b110a8a886b3895921802d2fc1b2397e/future-0.18.2-cp36-none-any.whl\n",
      "Collecting py4j==0.10.7\n",
      "  Using cached https://files.pythonhosted.org/packages/e3/53/c737818eb9a7dc32a7cd4f1396e787bd94200c3997c72c1dbe028587bd76/py4j-0.10.7-py2.py3-none-any.whl\n",
      "Collecting idna<2.9,>=2.5\n",
      "  Using cached https://files.pythonhosted.org/packages/14/2c/cd551d81dbe15200be1cf41cd03869a46fe7226e7450af7a6545bfc474c9/idna-2.8-py2.py3-none-any.whl\n",
      "Collecting certifi>=2017.4.17\n",
      "  Using cached https://files.pythonhosted.org/packages/b9/63/df50cac98ea0d5b006c55a399c3bf1db9da7b5a24de7890bc9cfd5dd9e99/certifi-2019.11.28-py2.py3-none-any.whl\n",
      "Collecting urllib3!=1.25.0,!=1.25.1,<1.26,>=1.21.1\n",
      "  Using cached https://files.pythonhosted.org/packages/b4/40/a9837291310ee1ccc242ceb6ebfd9eb21539649f193a7c8c86ba15b98539/urllib3-1.25.7-py2.py3-none-any.whl\n",
      "Collecting chardet<3.1.0,>=3.0.2\n",
      "  Using cached https://files.pythonhosted.org/packages/bc/a9/01ffebfb562e4274b6487b4bb1ddec7ca55ec7510b22e4c51f14098443b8/chardet-3.0.4-py2.py3-none-any.whl\n",
      "Installing collected packages: tabulate, py4j, pyspark, colorama, idna, certifi, urllib3, chardet, requests, future, h2o-pysparkling-2.4\n",
      "Successfully installed certifi-2019.11.28 chardet-3.0.4 colorama-0.4.3 future-0.18.2 h2o-pysparkling-2.4-3.28.0.1.post1 idna-2.8 py4j-0.10.7 pyspark-2.4.4 requests-2.22.0 tabulate-0.8.6 urllib3-1.25.7\n",
      "\n",
      "Processing /var/lib/livy/.cache/pip/wheels/ff/82/f4/3fe9c895b93c53b25ae44dc44aa54dad571c711f48bc485fe9/h2o-3.28.0.1-py2.py3-none-any.whl\n",
      "Requirement already satisfied: tabulate in /mnt/tmp/1579225710788-0/lib/python3.6/site-packages (from h2o) (0.8.6)\n",
      "Requirement already satisfied: colorama>=0.3.8 in /mnt/tmp/1579225710788-0/lib/python3.6/site-packages (from h2o) (0.4.3)\n",
      "Requirement already satisfied: requests in /mnt/tmp/1579225710788-0/lib/python3.6/site-packages (from h2o) (2.22.0)\n",
      "Requirement already satisfied: future in /mnt/tmp/1579225710788-0/lib/python3.6/site-packages (from h2o) (0.18.2)\n",
      "Requirement already satisfied: idna<2.9,>=2.5 in /mnt/tmp/1579225710788-0/lib/python3.6/site-packages (from requests->h2o) (2.8)\n",
      "Requirement already satisfied: certifi>=2017.4.17 in /mnt/tmp/1579225710788-0/lib/python3.6/site-packages (from requests->h2o) (2019.11.28)\n",
      "Requirement already satisfied: urllib3!=1.25.0,!=1.25.1,<1.26,>=1.21.1 in /mnt/tmp/1579225710788-0/lib/python3.6/site-packages (from requests->h2o) (1.25.7)\n",
      "Requirement already satisfied: chardet<3.1.0,>=3.0.2 in /mnt/tmp/1579225710788-0/lib/python3.6/site-packages (from requests->h2o) (3.0.4)\n",
      "Installing collected packages: h2o\n",
      "Successfully installed h2o-3.28.0.1\n",
      "\n",
      "Checking whether there is an H2O instance running at http://localhost:54321 . connected.\n",
      "--------------------------  ------------------------------------------------------------------\n",
      "H2O cluster uptime:         49 mins 31 secs\n",
      "H2O cluster timezone:       Etc/UCT\n",
      "H2O data parsing timezone:  UTC\n",
      "H2O cluster version:        3.28.0.1\n",
      "H2O cluster version age:    1 month\n",
      "H2O cluster name:           H2O_from_python_livy_5ece60\n",
      "H2O cluster total nodes:    1\n",
      "H2O cluster free memory:    6.473 Gb\n",
      "H2O cluster total cores:    8\n",
      "H2O cluster allowed cores:  8\n",
      "H2O cluster status:         locked, healthy\n",
      "H2O connection url:         http://localhost:54321\n",
      "H2O connection proxy:       {'http': None, 'https': None}\n",
      "H2O internal security:      False\n",
      "H2O API Extensions:         Amazon S3, XGBoost, Algos, AutoML, Core V3, TargetEncoder, Core V4\n",
      "Python version:             3.6.8 final\n",
      "--------------------------  ------------------------------------------------------------------\n",
      "Connecting to H2O server at http://ip-172-31-13-63.us-west-1.compute.internal:54327 ... successful.\n",
      "--------------------------  ------------------------------------------------------------------\n",
      "H2O cluster uptime:         13 secs\n",
      "H2O cluster timezone:       Etc/UCT\n",
      "H2O data parsing timezone:  UTC\n",
      "H2O cluster version:        3.28.0.1\n",
      "H2O cluster version age:    1 month\n",
      "H2O cluster name:           sparkling-water-livy_application_1579218525976_0006\n",
      "H2O cluster total nodes:    8\n",
      "H2O cluster free memory:    71.6 Gb\n",
      "H2O cluster total cores:    64\n",
      "H2O cluster allowed cores:  32\n",
      "H2O cluster status:         accepting new members, healthy\n",
      "H2O connection url:         http://ip-172-31-13-63.us-west-1.compute.internal:54327\n",
      "H2O connection proxy:\n",
      "H2O internal security:      False\n",
      "H2O API Extensions:         XGBoost, Algos, Amazon S3, AutoML, Core V3, TargetEncoder, Core V4\n",
      "Python version:             3.6.8 final\n",
      "--------------------------  ------------------------------------------------------------------\n",
      "\n",
      "Sparkling Water Context:\n",
      " * Sparkling Water Version: 3.28.0.1-1-2.4\n",
      " * H2O name: sparkling-water-livy_application_1579218525976_0006\n",
      " * cluster size: 8\n",
      " * list of used nodes:\n",
      "  (executorId, host, port)\n",
      "  ------------------------\n",
      "  (6,172.31.7.122,54321)\n",
      "  (8,172.31.3.220,54321)\n",
      "  (3,172.31.6.255,54321)\n",
      "  (1,172.31.12.147,54321)\n",
      "  (4,172.31.6.255,54323)\n",
      "  (5,172.31.7.122,54323)\n",
      "  (2,172.31.12.147,54323)\n",
      "  (7,172.31.3.220,54323)\n",
      "  ------------------------\n",
      "\n",
      "  Open H2O Flow in browser: http://ip-172-31-13-63.us-west-1.compute.internal:54327 (CMD + click in Mac OSX)\n",
      "\n",
      "    \n",
      " * Yarn App ID of Spark application: application_1579218525976_0006\n",
      "    \n",
      "\n",
      "ERROR: python36-sagemaker-pyspark 1.2.6 has requirement pyspark==2.3.2, but you'll have pyspark 2.4.4 which is incompatible."
     ]
    }
   ],
   "source": [
    "sc.list_packages()\n",
    "\n",
    "sc.install_pypi_package(\"h2o-pysparkling-2.4\")\n",
    "\n",
    "sc.install_pypi_package(\"h2o\")\n",
    "\n",
    "import h2o\n",
    "h2o.init()\n",
    "\n",
    "import pyspark\n",
    "ss = pyspark.sql.SparkSession.builder.master('yarn')\\\n",
    ".config(\"spark.dynamicAllocation.enabled\", True)\\\n",
    ".getOrCreate()\n",
    "\n",
    "from pysparkling import *\n",
    "\n",
    "import h2o\n",
    "hc = H2OContext.getOrCreate(ss)"
   ]
  },
  {
   "cell_type": "code",
   "execution_count": 6,
   "metadata": {},
   "outputs": [
    {
     "data": {
      "application/vnd.jupyter.widget-view+json": {
       "model_id": "3c36d57afce04aba9e9585a7d21cd947",
       "version_major": 2,
       "version_minor": 0
      },
      "text/plain": [
       "VBox()"
      ]
     },
     "metadata": {},
     "output_type": "display_data"
    },
    {
     "data": {
      "application/vnd.jupyter.widget-view+json": {
       "model_id": "",
       "version_major": 2,
       "version_minor": 0
      },
      "text/plain": [
       "FloatProgress(value=0.0, bar_style='info', description='Progress:', layout=Layout(height='25px', width='50%'),…"
      ]
     },
     "metadata": {},
     "output_type": "display_data"
    },
    {
     "name": "stdout",
     "output_type": "stream",
     "text": [
      "\n",
      "Sparkling Water Context:\n",
      " * Sparkling Water Version: 3.28.0.1-1-2.4\n",
      " * H2O name: sparkling-water-livy_application_1579218525976_0006\n",
      " * cluster size: 8\n",
      " * list of used nodes:\n",
      "  (executorId, host, port)\n",
      "  ------------------------\n",
      "  (6,172.31.7.122,54321)\n",
      "  (8,172.31.3.220,54321)\n",
      "  (3,172.31.6.255,54321)\n",
      "  (1,172.31.12.147,54321)\n",
      "  (4,172.31.6.255,54323)\n",
      "  (5,172.31.7.122,54323)\n",
      "  (2,172.31.12.147,54323)\n",
      "  (7,172.31.3.220,54323)\n",
      "  ------------------------\n",
      "\n",
      "  Open H2O Flow in browser: http://ip-172-31-13-63.us-west-1.compute.internal:54327 (CMD + click in Mac OSX)\n",
      "\n",
      "    \n",
      " * Yarn App ID of Spark application: application_1579218525976_0006"
     ]
    }
   ],
   "source": [
    "hc"
   ]
  },
  {
   "cell_type": "code",
   "execution_count": 7,
   "metadata": {},
   "outputs": [
    {
     "data": {
      "application/vnd.jupyter.widget-view+json": {
       "model_id": "fb9f99058c0d4432b824c69f47bc9c53",
       "version_major": 2,
       "version_minor": 0
      },
      "text/plain": [
       "VBox()"
      ]
     },
     "metadata": {},
     "output_type": "display_data"
    },
    {
     "data": {
      "application/vnd.jupyter.widget-view+json": {
       "model_id": "",
       "version_major": 2,
       "version_minor": 0
      },
      "text/plain": [
       "FloatProgress(value=0.0, bar_style='info', description='Progress:', layout=Layout(height='25px', width='50%'),…"
      ]
     },
     "metadata": {},
     "output_type": "display_data"
    }
   ],
   "source": [
    "train_h2o = hc.as_h2o_frame(train_df)\n",
    "valid_h2o = hc.as_h2o_frame(valid_df)"
   ]
  },
  {
   "cell_type": "code",
   "execution_count": 8,
   "metadata": {},
   "outputs": [
    {
     "data": {
      "application/vnd.jupyter.widget-view+json": {
       "model_id": "979a5c78b87b40d48027c5f7ae154cf7",
       "version_major": 2,
       "version_minor": 0
      },
      "text/plain": [
       "VBox()"
      ]
     },
     "metadata": {},
     "output_type": "display_data"
    },
    {
     "data": {
      "application/vnd.jupyter.widget-view+json": {
       "model_id": "",
       "version_major": 2,
       "version_minor": 0
      },
      "text/plain": [
       "FloatProgress(value=0.0, bar_style='info', description='Progress:', layout=Layout(height='25px', width='50%'),…"
      ]
     },
     "metadata": {},
     "output_type": "display_data"
    }
   ],
   "source": [
    "train_h2o['label'] = train_h2o['label'].asfactor()\n",
    "valid_h2o['label'] = valid_h2o['label'].asfactor()"
   ]
  },
  {
   "cell_type": "code",
   "execution_count": 9,
   "metadata": {},
   "outputs": [
    {
     "data": {
      "application/vnd.jupyter.widget-view+json": {
       "model_id": "83969f8a88dc46cfa8230d109fb5d1c2",
       "version_major": 2,
       "version_minor": 0
      },
      "text/plain": [
       "VBox()"
      ]
     },
     "metadata": {},
     "output_type": "display_data"
    },
    {
     "data": {
      "application/vnd.jupyter.widget-view+json": {
       "model_id": "",
       "version_major": 2,
       "version_minor": 0
      },
      "text/plain": [
       "FloatProgress(value=0.0, bar_style='info', description='Progress:', layout=Layout(height='25px', width='50%'),…"
      ]
     },
     "metadata": {},
     "output_type": "display_data"
    },
    {
     "name": "stdout",
     "output_type": "stream",
     "text": [
      "         num_prev_so         mean_amp_prev_so    mean_duration_prev_so    amp_curr_so        duration_curr_so    curr_sleep_stage     time_elapsed_since_asleep    time_deep_sleep     time_light_sleep    time_rem_sleep      time_wake_sleep     eeg_min              eeg_max             eeg_mean              eeg_median         label\n",
      "-------  ------------------  ------------------  -----------------------  -----------------  ------------------  -------------------  ---------------------------  ------------------  ------------------  ------------------  ------------------  -------------------  ------------------  --------------------  -----------------  -------\n",
      "type     int                 real                real                     real               int                 int                  int                          int                 int                 int                 int                 real                 real                real                  real               enum\n",
      "mins     0.0                 100.899             111.0                    100.063            101.0               2.0                  1.0                          0.0                 0.0                 0.0                 0.0                 -5312.12             37.1888             -32.06911021047162    -47.435\n",
      "mean     318.88508698174047  160.08359212330762  295.1990490191227        165.563184003813   303.3438262973069   2.4975022818936807   9954.511225118364            2792.1247914821283  3663.0195186216006  1160.4981947185966  1567.5759769427575  -122.55442924016319  109.89501547101436  1.0212680666741474    1.561279006644901\n",
      "maxs     2248.0              498.43300000000005  498.0                    498.471            499.0               3.0                  50079.0                      12810.0             24360.0             12180.0             16140.0             -48.8932             2074.31             44.02022820535572     54.49\n",
      "sigma    278.35375589292744  14.175033208362391  30.432312366732397       48.57256660650311  81.10309577435068   0.49999488544066234  7641.639465427175            2399.9857810627195  3678.6352241743357  1658.9821717024802  1308.7908074935272  42.06401151047829    40.66946228999578   2.0185981228413037    3.580575193710919\n",
      "zeros    663                 0                   0                        0                  0                   0                    0                            41607               19331               89970               1609                0                    0                   0                     781\n",
      "missing  0                   0                   0                        0                  0                   0                    0                            0                   0                   0                   0                   0                    0                   0                     0                  0\n",
      "0        0.0                 104.627             306.0                    104.627            306.0               2.0                  205.0                        0.0                 0.0                 0.0                 0.0                 -75.8074             80.4982             0.5083439895283769    1.62447            0\n",
      "1        0.0                 108.754             262.0                    108.754            262.0               2.0                  470.0                        0.0                 0.0                 0.0                 0.0                 -71.8051             55.8549             1.4262473859472422    1.93611            0\n",
      "2        0.0                 111.723             206.0                    111.723            206.0               2.0                  301.0                        0.0                 0.0                 0.0                 0.0                 -82.3918             53.2527             -0.09370094991207012  5.32686            1\n",
      "3        0.0                 112.36              444.0                    112.36             444.0               3.0                  509.0                        0.0                 0.0                 0.0                 0.0                 -87.7834             123.08              -0.2672430422861712   0.998057           0\n",
      "4        0.0                 121.095             203.0                    121.095            203.0               2.0                  1318.0                       0.0                 0.0                 0.0                 0.0                 -83.5188             73.84899999999998   0.4871213523581133    -0.417704          0\n",
      "5        0.0                 121.481             422.0                    121.481            422.0               2.0                  108.0                        0.0                 0.0                 0.0                 0.0                 -93.7522             57.5405             0.03520619048761022   1.12276            0\n",
      "6        0.0                 124.557             187.0                    124.557            187.0               2.0                  27.0                         0.0                 0.0                 0.0                 0.0                 -97.8148             62.4638             1.1204993452438052    3.8779             0\n",
      "7        0.0                 124.572             383.0                    124.572            383.0               2.0                  172.0                        0.0                 0.0                 0.0                 0.0                 -89.9646             77.9079             1.9336614163868906    2.71707            0\n",
      "8        0.0                 130.891             168.0                    130.891            168.0               2.0                  3997.0                       0.0                 0.0                 0.0                 0.0                 -67.3135             72.1081             0.7740693942446039    1.49958            0\n",
      "9        0.0                 160.487             255.0                    160.487            255.0               2.0                  5535.0                       0.0                 0.0                 0.0                 0.0                 -113.623             103.352             1.060532662190247     0.427723           0"
     ]
    }
   ],
   "source": [
    "train_h2o.summary()"
   ]
  },
  {
   "cell_type": "code",
   "execution_count": 10,
   "metadata": {},
   "outputs": [
    {
     "data": {
      "application/vnd.jupyter.widget-view+json": {
       "model_id": "fddb5d8f880342afa2fc70a9fdcddaf3",
       "version_major": 2,
       "version_minor": 0
      },
      "text/plain": [
       "VBox()"
      ]
     },
     "metadata": {},
     "output_type": "display_data"
    },
    {
     "data": {
      "application/vnd.jupyter.widget-view+json": {
       "model_id": "",
       "version_major": 2,
       "version_minor": 0
      },
      "text/plain": [
       "FloatProgress(value=0.0, bar_style='info', description='Progress:', layout=Layout(height='25px', width='50%'),…"
      ]
     },
     "metadata": {},
     "output_type": "display_data"
    }
   ],
   "source": [
    "from h2o.estimators.xgboost import H2OXGBoostEstimator"
   ]
  },
  {
   "cell_type": "code",
   "execution_count": 11,
   "metadata": {},
   "outputs": [
    {
     "data": {
      "application/vnd.jupyter.widget-view+json": {
       "model_id": "04b74ea0fb53477f8c1ff079803316d6",
       "version_major": 2,
       "version_minor": 0
      },
      "text/plain": [
       "VBox()"
      ]
     },
     "metadata": {},
     "output_type": "display_data"
    },
    {
     "data": {
      "application/vnd.jupyter.widget-view+json": {
       "model_id": "",
       "version_major": 2,
       "version_minor": 0
      },
      "text/plain": [
       "FloatProgress(value=0.0, bar_style='info', description='Progress:', layout=Layout(height='25px', width='50%'),…"
      ]
     },
     "metadata": {},
     "output_type": "display_data"
    }
   ],
   "source": [
    "predictors = train_h2o.names[:]\n",
    "response = \"label\"\n",
    "predictors.remove(response)"
   ]
  },
  {
   "cell_type": "code",
   "execution_count": 12,
   "metadata": {},
   "outputs": [
    {
     "data": {
      "application/vnd.jupyter.widget-view+json": {
       "model_id": "3e22d46954904bf39456a262844b8ff9",
       "version_major": 2,
       "version_minor": 0
      },
      "text/plain": [
       "VBox()"
      ]
     },
     "metadata": {},
     "output_type": "display_data"
    },
    {
     "data": {
      "application/vnd.jupyter.widget-view+json": {
       "model_id": "",
       "version_major": 2,
       "version_minor": 0
      },
      "text/plain": [
       "FloatProgress(value=0.0, bar_style='info', description='Progress:', layout=Layout(height='25px', width='50%'),…"
      ]
     },
     "metadata": {},
     "output_type": "display_data"
    }
   ],
   "source": [
    "model_xgb = H2OXGBoostEstimator(nfolds=3)"
   ]
  },
  {
   "cell_type": "code",
   "execution_count": 13,
   "metadata": {},
   "outputs": [
    {
     "data": {
      "application/vnd.jupyter.widget-view+json": {
       "model_id": "aac8a77bff5a48558e7ea492b74dcda9",
       "version_major": 2,
       "version_minor": 0
      },
      "text/plain": [
       "VBox()"
      ]
     },
     "metadata": {},
     "output_type": "display_data"
    },
    {
     "data": {
      "application/vnd.jupyter.widget-view+json": {
       "model_id": "",
       "version_major": 2,
       "version_minor": 0
      },
      "text/plain": [
       "FloatProgress(value=0.0, bar_style='info', description='Progress:', layout=Layout(height='25px', width='50%'),…"
      ]
     },
     "metadata": {},
     "output_type": "display_data"
    },
    {
     "name": "stdout",
     "output_type": "stream",
     "text": [
      "xgboost Model Build progress: [###########################################] 100%"
     ]
    }
   ],
   "source": [
    "model_xgb.train(x=predictors,\n",
    "                y=response,\n",
    "                training_frame=train_h2o,\n",
    "                validation_frame=valid_h2o)"
   ]
  },
  {
   "cell_type": "code",
   "execution_count": 14,
   "metadata": {},
   "outputs": [
    {
     "data": {
      "application/vnd.jupyter.widget-view+json": {
       "model_id": "ee7cdad3e0004be885fbf75b1b1b7fb9",
       "version_major": 2,
       "version_minor": 0
      },
      "text/plain": [
       "VBox()"
      ]
     },
     "metadata": {},
     "output_type": "display_data"
    },
    {
     "data": {
      "application/vnd.jupyter.widget-view+json": {
       "model_id": "",
       "version_major": 2,
       "version_minor": 0
      },
      "text/plain": [
       "FloatProgress(value=0.0, bar_style='info', description='Progress:', layout=Layout(height='25px', width='50%'),…"
      ]
     },
     "metadata": {},
     "output_type": "display_data"
    },
    {
     "name": "stdout",
     "output_type": "stream",
     "text": [
      "Model Details\n",
      "=============\n",
      "H2OXGBoostEstimator :  XGBoost\n",
      "Model Key:  XGBoost_model_python_1579225752259_1\n",
      "\n",
      "\n",
      "Model Summary: \n",
      "    number_of_trees\n",
      "--  -----------------\n",
      "    50\n",
      "\n",
      "\n",
      "ModelMetricsMultinomial: xgboost\n",
      "** Reported on train data. **\n",
      "\n",
      "MSE: 0.36321601661888103\n",
      "RMSE: 0.6026740550404348\n",
      "LogLoss: 0.9523631059038783\n",
      "Mean Per-Class Error: 0.5078580689713582\n",
      "\n",
      "Confusion Matrix: Row labels: Actual class; Column labels: Predicted class\n",
      "0       1      2      Error     Rate\n",
      "------  -----  -----  --------  -----------------\n",
      "77972   12536  6596   0.197026  19,132 / 97,104\n",
      "31650   23841  11278  0.642933  42,928 / 66,769\n",
      "24765   15247  18518  0.683615  40,012 / 58,530\n",
      "134387  51624  36392  0.458951  102,072 / 222,403\n",
      "\n",
      "Top-3 Hit Ratios: \n",
      "k    hit_ratio\n",
      "---  -----------\n",
      "1    0.541049\n",
      "2    0.826293\n",
      "3    1\n",
      "\n",
      "ModelMetricsMultinomial: xgboost\n",
      "** Reported on validation data. **\n",
      "\n",
      "MSE: 0.3775884197612103\n",
      "RMSE: 0.6144822371405135\n",
      "LogLoss: 0.9884414105191188\n",
      "Mean Per-Class Error: 0.542289270918076\n",
      "\n",
      "Confusion Matrix: Row labels: Actual class; Column labels: Predicted class\n",
      "0      1     2     Error     Rate\n",
      "-----  ----  ----  --------  ---------------\n",
      "13323  2378  1227  0.212961  3,605 / 16,928\n",
      "5735   3754  2362  0.683233  8,097 / 11,851\n",
      "4597   3040  2815  0.730674  7,637 / 10,452\n",
      "23655  9172  6404  0.492952  19,339 / 39,231\n",
      "\n",
      "Top-3 Hit Ratios: \n",
      "k    hit_ratio\n",
      "---  -----------\n",
      "1    0.507048\n",
      "2    0.804007\n",
      "3    1\n",
      "\n",
      "ModelMetricsMultinomial: xgboost\n",
      "** Reported on cross-validation data. **\n",
      "\n",
      "MSE: 0.3777334705081921\n",
      "RMSE: 0.6146002526099319\n",
      "LogLoss: 0.9896232600559732\n",
      "Mean Per-Class Error: 0.5416421262718681\n",
      "\n",
      "Confusion Matrix: Row labels: Actual class; Column labels: Predicted class\n",
      "0       1      2      Error     Rate\n",
      "------  -----  -----  --------  -----------------\n",
      "75983   13711  7410   0.217509  21,121 / 97,104\n",
      "32472   21185  13112  0.682712  45,584 / 66,769\n",
      "25329   17088  16113  0.724705  42,417 / 58,530\n",
      "133784  51984  36635  0.49065   109,122 / 222,403\n",
      "\n",
      "Top-3 Hit Ratios: \n",
      "k    hit_ratio\n",
      "---  -----------\n",
      "1    0.50935\n",
      "2    0.800781\n",
      "3    1\n",
      "\n",
      "Cross-Validation Metrics Summary: \n",
      "                         mean      sd           cv_1_valid    cv_2_valid    cv_3_valid\n",
      "-----------------------  --------  -----------  ------------  ------------  ------------\n",
      "accuracy                 0.50935   0.0016347    0.511146      0.507949      0.508955\n",
      "err                      0.49065   0.0016347    0.488854      0.492051      0.491045\n",
      "err_count                36374     110.036      36250         36460         36412\n",
      "logloss                  0.989624  0.00135257   0.988276      0.990981      0.989614\n",
      "max_per_class_error      0.724689  0.00468827   0.719853      0.724999      0.729215\n",
      "mean_per_class_accuracy  0.458362  0.00098227   0.459463      0.458051      0.457574\n",
      "mean_per_class_error     0.541638  0.00098227   0.540537      0.541949      0.542426\n",
      "mse                      0.377734  0.000437614  0.377295      0.37817       0.377735\n",
      "r2                       0.435961  0.000848673  0.435158      0.435877      0.436849\n",
      "rmse                     0.6146    0.000356016  0.614244      0.614956      0.614602\n",
      "\n",
      "Scoring History: \n",
      "    timestamp            duration          number_of_trees    training_rmse    training_logloss    training_classification_error    validation_rmse    validation_logloss    validation_classification_error\n",
      "--  -------------------  ----------------  -----------------  ---------------  ------------------  -------------------------------  -----------------  --------------------  ---------------------------------\n",
      "    2020-01-17 01:52:23  2 min 26.613 sec  0                  0.666667         1.09861             0.699784                         0.666667           1.09861               0.697917\n",
      "    2020-01-17 01:52:25  2 min 28.515 sec  1                  0.651743         1.05735             0.495079                         0.65227            1.05887               0.502052\n",
      "    2020-01-17 01:52:27  2 min 29.898 sec  2                  0.641484         1.03262             0.491715                         0.642493           1.0355                0.499325\n",
      "    2020-01-17 01:52:31  2 min 34.119 sec  5                  0.625434         0.99963             0.487633                         0.627546           1.00573               0.496674\n",
      "    2020-01-17 01:52:35  2 min 38.327 sec  8                  0.618804         0.988132            0.485097                         0.621778           0.996933              0.494736\n",
      "    2020-01-17 01:52:39  2 min 42.707 sec  11                 0.61524          0.981849            0.481945                         0.618978           0.993028              0.493742\n",
      "    2020-01-17 01:52:44  2 min 47.075 sec  14                 0.612992         0.977625            0.479351                         0.61735            0.990768              0.492493\n",
      "    2020-01-17 01:52:48  2 min 51.217 sec  17                 0.611375         0.974442            0.477646                         0.616408           0.989714              0.491397\n",
      "    2020-01-17 01:52:52  2 min 55.481 sec  20                 0.610141         0.971824            0.475785                         0.615856           0.989223              0.491703\n",
      "    2020-01-17 01:52:56  2 min 59.749 sec  23                 0.609238         0.969731            0.474225                         0.615507           0.988907              0.491983\n",
      "    2020-01-17 01:53:01  3 min  3.981 sec  26                 0.608376         0.967577            0.472579                         0.615237           0.9886                0.491601\n",
      "    2020-01-17 01:53:05  3 min  8.293 sec  29                 0.607527         0.965509            0.471014                         0.615019           0.988475              0.492187\n",
      "    2020-01-17 01:53:09  3 min 12.577 sec  32                 0.606711         0.96341             0.468852                         0.614867           0.988385              0.491754\n",
      "    2020-01-17 01:53:14  3 min 16.902 sec  35                 0.606017         0.961528            0.467197                         0.614758           0.988272              0.491703\n",
      "    2020-01-17 01:53:18  3 min 21.221 sec  38                 0.605279         0.959544            0.465623                         0.614688           0.988337              0.493232\n",
      "    2020-01-17 01:53:22  3 min 25.380 sec  41                 0.604622         0.957811            0.464076                         0.614587           0.988286              0.492672\n",
      "    2020-01-17 01:53:27  3 min 29.857 sec  44                 0.603995         0.956038            0.46221                          0.614555           0.988345              0.493003\n",
      "    2020-01-17 01:53:31  3 min 34.219 sec  47                 0.603363         0.954288            0.460943                         0.614488           0.988332              0.493436\n",
      "    2020-01-17 01:53:35  3 min 38.533 sec  50                 0.602674         0.952363            0.458951                         0.614482           0.988441              0.492952\n",
      "\n",
      "Variable Importances: \n",
      "variable                   relative_importance    scaled_importance    percentage\n",
      "-------------------------  ---------------------  -------------------  ------------\n",
      "curr_sleep_stage           37268.1                1                    0.368185\n",
      "eeg_max                    15826.6                0.424669             0.156357\n",
      "mean_duration_prev_so      5721.74                0.153529             0.0565272\n",
      "duration_curr_so           5429.98                0.145701             0.0536449\n",
      "eeg_min                    5323.32                0.142839             0.0525911\n",
      "eeg_median                 4608.58                0.12366              0.0455299\n",
      "eeg_mean                   4421.56                0.118642             0.0436823\n",
      "time_elapsed_since_asleep  4349.92                0.11672              0.0429744\n",
      "mean_amp_prev_so           3844.16                0.103149             0.0379779\n",
      "num_prev_so                3716.21                0.0997157            0.0367138\n",
      "amp_curr_so                3497.04                0.0938349            0.0345486\n",
      "time_wake_sleep            2819.46                0.0756535            0.0278545\n",
      "time_deep_sleep            1614.67                0.0433259            0.0159519\n",
      "time_light_sleep           1567.89                0.0420705            0.0154897\n",
      "time_rem_sleep             1211.79                0.0325155            0.0119717"
     ]
    }
   ],
   "source": [
    "model_xgb"
   ]
  },
  {
   "cell_type": "code",
   "execution_count": 15,
   "metadata": {},
   "outputs": [
    {
     "data": {
      "application/vnd.jupyter.widget-view+json": {
       "model_id": "92fc74454e1d424fafc38eb42511c58c",
       "version_major": 2,
       "version_minor": 0
      },
      "text/plain": [
       "VBox()"
      ]
     },
     "metadata": {},
     "output_type": "display_data"
    },
    {
     "data": {
      "application/vnd.jupyter.widget-view+json": {
       "model_id": "",
       "version_major": 2,
       "version_minor": 0
      },
      "text/plain": [
       "FloatProgress(value=0.0, bar_style='info', description='Progress:', layout=Layout(height='25px', width='50%'),…"
      ]
     },
     "metadata": {},
     "output_type": "display_data"
    },
    {
     "name": "stdout",
     "output_type": "stream",
     "text": [
      "\n",
      "Confusion Matrix: Row labels: Actual class; Column labels: Predicted class\n",
      "0       1      2      Error     Rate\n",
      "------  -----  -----  --------  -----------------\n",
      "77972   12536  6596   0.197026  19,132 / 97,104\n",
      "31650   23841  11278  0.642933  42,928 / 66,769\n",
      "24765   15247  18518  0.683615  40,012 / 58,530\n",
      "134387  51624  36392  0.458951  102,072 / 222,403"
     ]
    }
   ],
   "source": [
    "print(model_xgb.confusion_matrix(train_h2o))"
   ]
  },
  {
   "cell_type": "code",
   "execution_count": 16,
   "metadata": {},
   "outputs": [
    {
     "data": {
      "application/vnd.jupyter.widget-view+json": {
       "model_id": "03771047fb6640e5a1ad66967c699970",
       "version_major": 2,
       "version_minor": 0
      },
      "text/plain": [
       "VBox()"
      ]
     },
     "metadata": {},
     "output_type": "display_data"
    },
    {
     "data": {
      "application/vnd.jupyter.widget-view+json": {
       "model_id": "",
       "version_major": 2,
       "version_minor": 0
      },
      "text/plain": [
       "FloatProgress(value=0.0, bar_style='info', description='Progress:', layout=Layout(height='25px', width='50%'),…"
      ]
     },
     "metadata": {},
     "output_type": "display_data"
    },
    {
     "name": "stdout",
     "output_type": "stream",
     "text": [
      "301.8973639011383"
     ]
    }
   ],
   "source": [
    "elapsed = time.time()-begin_time\n",
    "elapsed"
   ]
  },
  {
   "cell_type": "code",
   "execution_count": null,
   "metadata": {},
   "outputs": [],
   "source": []
  }
 ],
 "metadata": {
  "kernelspec": {
   "display_name": "PySpark",
   "language": "",
   "name": "pysparkkernel"
  },
  "language_info": {
   "codemirror_mode": {
    "name": "python",
    "version": 2
   },
   "mimetype": "text/x-python",
   "name": "pyspark",
   "pygments_lexer": "python2"
  }
 },
 "nbformat": 4,
 "nbformat_minor": 2
}
