{
 "cells": [
  {
   "cell_type": "code",
   "execution_count": 1,
   "metadata": {},
   "outputs": [
    {
     "data": {
      "application/vnd.jupyter.widget-view+json": {
       "model_id": "53374568411246818d03576eba524849",
       "version_major": 2,
       "version_minor": 0
      },
      "text/plain": [
       "VBox()"
      ]
     },
     "metadata": {},
     "output_type": "display_data"
    },
    {
     "name": "stdout",
     "output_type": "stream",
     "text": [
      "Starting Spark application\n"
     ]
    },
    {
     "data": {
      "text/html": [
       "<table>\n",
       "<tr><th>ID</th><th>YARN Application ID</th><th>Kind</th><th>State</th><th>Spark UI</th><th>Driver log</th><th>Current session?</th></tr><tr><td>6</td><td>application_1579211411999_0007</td><td>pyspark</td><td>idle</td><td><a target=\"_blank\" href=\"http://ip-172-31-12-38.us-west-1.compute.internal:20888/proxy/application_1579211411999_0007/\">Link</a></td><td><a target=\"_blank\" href=\"http://ip-172-31-0-234.us-west-1.compute.internal:8042/node/containerlogs/container_1579211411999_0007_01_000001/livy\">Link</a></td><td>✔</td></tr></table>"
      ],
      "text/plain": [
       "<IPython.core.display.HTML object>"
      ]
     },
     "metadata": {},
     "output_type": "display_data"
    },
    {
     "data": {
      "application/vnd.jupyter.widget-view+json": {
       "model_id": "",
       "version_major": 2,
       "version_minor": 0
      },
      "text/plain": [
       "FloatProgress(value=0.0, bar_style='info', description='Progress:', layout=Layout(height='25px', width='50%'),…"
      ]
     },
     "metadata": {},
     "output_type": "display_data"
    },
    {
     "name": "stdout",
     "output_type": "stream",
     "text": [
      "SparkSession available as 'spark'.\n"
     ]
    },
    {
     "data": {
      "application/vnd.jupyter.widget-view+json": {
       "model_id": "",
       "version_major": 2,
       "version_minor": 0
      },
      "text/plain": [
       "FloatProgress(value=0.0, bar_style='info', description='Progress:', layout=Layout(height='25px', width='50%'),…"
      ]
     },
     "metadata": {},
     "output_type": "display_data"
    },
    {
     "name": "stdout",
     "output_type": "stream",
     "text": [
      "<SparkContext master=yarn appName=livy-session-6>"
     ]
    }
   ],
   "source": [
    "sc"
   ]
  },
  {
   "cell_type": "code",
   "execution_count": 2,
   "metadata": {},
   "outputs": [
    {
     "data": {
      "application/vnd.jupyter.widget-view+json": {
       "model_id": "a9f90bd8d46f4a6bac0c9e4a2c395170",
       "version_major": 2,
       "version_minor": 0
      },
      "text/plain": [
       "VBox()"
      ]
     },
     "metadata": {},
     "output_type": "display_data"
    },
    {
     "data": {
      "application/vnd.jupyter.widget-view+json": {
       "model_id": "",
       "version_major": 2,
       "version_minor": 0
      },
      "text/plain": [
       "FloatProgress(value=0.0, bar_style='info', description='Progress:', layout=Layout(height='25px', width='50%'),…"
      ]
     },
     "metadata": {},
     "output_type": "display_data"
    }
   ],
   "source": [
    "import numpy as np\n",
    "from pyspark.sql import SparkSession\n",
    "from pyspark.sql.types import *\n",
    "import pyspark\n",
    "\n",
    "ss = SparkSession.builder.getOrCreate()"
   ]
  },
  {
   "cell_type": "markdown",
   "metadata": {},
   "source": [
    "## Create DataFrame from s3"
   ]
  },
  {
   "cell_type": "code",
   "execution_count": 3,
   "metadata": {},
   "outputs": [
    {
     "data": {
      "application/vnd.jupyter.widget-view+json": {
       "model_id": "d925a511407548a3a632bb3396cbd5a8",
       "version_major": 2,
       "version_minor": 0
      },
      "text/plain": [
       "VBox()"
      ]
     },
     "metadata": {},
     "output_type": "display_data"
    },
    {
     "data": {
      "application/vnd.jupyter.widget-view+json": {
       "model_id": "",
       "version_major": 2,
       "version_minor": 0
      },
      "text/plain": [
       "FloatProgress(value=0.0, bar_style='info', description='Progress:', layout=Layout(height='25px', width='50%'),…"
      ]
     },
     "metadata": {},
     "output_type": "display_data"
    }
   ],
   "source": [
    "data_path = \"s3://msds694-group15/slow.csv\""
   ]
  },
  {
   "cell_type": "code",
   "execution_count": 4,
   "metadata": {},
   "outputs": [
    {
     "data": {
      "application/vnd.jupyter.widget-view+json": {
       "model_id": "eddd7aea853a4809ae6a3b85b82380ca",
       "version_major": 2,
       "version_minor": 0
      },
      "text/plain": [
       "VBox()"
      ]
     },
     "metadata": {},
     "output_type": "display_data"
    },
    {
     "data": {
      "application/vnd.jupyter.widget-view+json": {
       "model_id": "",
       "version_major": 2,
       "version_minor": 0
      },
      "text/plain": [
       "FloatProgress(value=0.0, bar_style='info', description='Progress:', layout=Layout(height='25px', width='50%'),…"
      ]
     },
     "metadata": {},
     "output_type": "display_data"
    }
   ],
   "source": [
    "data = ss.read.csv(data_path, inferSchema=True, header=True)"
   ]
  },
  {
   "cell_type": "code",
   "execution_count": null,
   "metadata": {},
   "outputs": [],
   "source": [
    "data_path = \"s3://msds694-group15/slow.csv\"\n",
    "data = ss.read.csv(data_path, inferSchema=True, header=True)\n",
    "\n",
    "processed_rdd = data.rdd\\\n",
    "                 .map(lambda x: list(x[0:11])\n",
    "                      + [min(x[11:]), max(x[11:]), float(np.mean(x[11:])), float(np.median(x[11:]))]\n",
    "                      + [x[-1]])\n",
    "\n",
    "schema = StructType([StructField(\"num_prev_so\", IntegerType(), True),\n",
    "                     StructField(\"mean_amp_prev_so\", DoubleType(), True),\n",
    "                     StructField(\"mean_duration_prev_so\", DoubleType(), True),\n",
    "                     StructField(\"amp_curr_so\", DoubleType(), True),\n",
    "                     StructField(\"duration_curr_so\", IntegerType(), True),\n",
    "                     StructField(\"curr_sleep_stage\", IntegerType(), True),\n",
    "                     StructField(\"time_elapsed_since_asleep\", IntegerType(), True),\n",
    "                     StructField(\"time_deep_sleep\", IntegerType(), True),\n",
    "                     StructField(\"time_light_sleep\", IntegerType(), True),\n",
    "                     StructField(\"time_rem_sleep\", IntegerType(), True),\n",
    "                     StructField(\"time_wake_sleep\", IntegerType(), True),\n",
    "                     StructField(\"eeg_min\", DoubleType(), True),\n",
    "                     StructField(\"eeg_max\", DoubleType(), True),\n",
    "                     StructField(\"eeg_mean\", DoubleType(), True),\n",
    "                     StructField(\"eeg_median\", DoubleType(), True),\n",
    "                     StructField(\"label\", IntegerType(), True)\n",
    "                    ])\n",
    "\n",
    "data_preprocessed = ss.createDataFrame(processed_rdd, schema)\n",
    "data_preprocessed.printSchema()\n",
    "\n",
    "data_preprocessed.show(5)\n",
    "\n",
    "data_preprocessed.write.option(\"path\", \"/data\").saveAsTable('data1')\n",
    "\n"
   ]
  },
  {
   "cell_type": "markdown",
   "metadata": {},
   "source": [
    "## Data Pre-processing"
   ]
  },
  {
   "cell_type": "code",
   "execution_count": 5,
   "metadata": {},
   "outputs": [
    {
     "data": {
      "application/vnd.jupyter.widget-view+json": {
       "model_id": "b292d9c5c5b74d7d9d37f5646faab994",
       "version_major": 2,
       "version_minor": 0
      },
      "text/plain": [
       "VBox()"
      ]
     },
     "metadata": {},
     "output_type": "display_data"
    },
    {
     "data": {
      "application/vnd.jupyter.widget-view+json": {
       "model_id": "",
       "version_major": 2,
       "version_minor": 0
      },
      "text/plain": [
       "FloatProgress(value=0.0, bar_style='info', description='Progress:', layout=Layout(height='25px', width='50%'),…"
      ]
     },
     "metadata": {},
     "output_type": "display_data"
    }
   ],
   "source": [
    "processed_rdd = data.rdd\\\n",
    "                 .map(lambda x: list(x[0:11])\n",
    "                      + [min(x[11:]), max(x[11:]), float(np.mean(x[11:])), float(np.median(x[11:]))]\n",
    "                      + [x[-1]])"
   ]
  },
  {
   "cell_type": "code",
   "execution_count": 6,
   "metadata": {},
   "outputs": [
    {
     "data": {
      "application/vnd.jupyter.widget-view+json": {
       "model_id": "2a7abc146f74414695fdb86e2175aa8d",
       "version_major": 2,
       "version_minor": 0
      },
      "text/plain": [
       "VBox()"
      ]
     },
     "metadata": {},
     "output_type": "display_data"
    },
    {
     "data": {
      "application/vnd.jupyter.widget-view+json": {
       "model_id": "",
       "version_major": 2,
       "version_minor": 0
      },
      "text/plain": [
       "FloatProgress(value=0.0, bar_style='info', description='Progress:', layout=Layout(height='25px', width='50%'),…"
      ]
     },
     "metadata": {},
     "output_type": "display_data"
    }
   ],
   "source": [
    "schema = StructType([StructField(\"num_prev_so\", IntegerType(), True),\n",
    "                     StructField(\"mean_amp_prev_so\", DoubleType(), True),\n",
    "                     StructField(\"mean_duration_prev_so\", DoubleType(), True),\n",
    "                     StructField(\"amp_curr_so\", DoubleType(), True),\n",
    "                     StructField(\"duration_curr_so\", IntegerType(), True),\n",
    "                     StructField(\"curr_sleep_stage\", IntegerType(), True),\n",
    "                     StructField(\"time_elapsed_since_asleep\", IntegerType(), True),\n",
    "                     StructField(\"time_deep_sleep\", IntegerType(), True),\n",
    "                     StructField(\"time_light_sleep\", IntegerType(), True),\n",
    "                     StructField(\"time_rem_sleep\", IntegerType(), True),\n",
    "                     StructField(\"time_wake_sleep\", IntegerType(), True),\n",
    "                     StructField(\"eeg_min\", DoubleType(), True),\n",
    "                     StructField(\"eeg_max\", DoubleType(), True),\n",
    "                     StructField(\"eeg_mean\", DoubleType(), True),\n",
    "                     StructField(\"eeg_median\", DoubleType(), True),\n",
    "                     StructField(\"label\", IntegerType(), True)\n",
    "                    ])"
   ]
  },
  {
   "cell_type": "code",
   "execution_count": 7,
   "metadata": {},
   "outputs": [
    {
     "data": {
      "application/vnd.jupyter.widget-view+json": {
       "model_id": "6475e2e1bb1b48bc8d765f2d48d66360",
       "version_major": 2,
       "version_minor": 0
      },
      "text/plain": [
       "VBox()"
      ]
     },
     "metadata": {},
     "output_type": "display_data"
    },
    {
     "data": {
      "application/vnd.jupyter.widget-view+json": {
       "model_id": "",
       "version_major": 2,
       "version_minor": 0
      },
      "text/plain": [
       "FloatProgress(value=0.0, bar_style='info', description='Progress:', layout=Layout(height='25px', width='50%'),…"
      ]
     },
     "metadata": {},
     "output_type": "display_data"
    },
    {
     "name": "stdout",
     "output_type": "stream",
     "text": [
      "root\n",
      " |-- num_prev_so: integer (nullable = true)\n",
      " |-- mean_amp_prev_so: double (nullable = true)\n",
      " |-- mean_duration_prev_so: double (nullable = true)\n",
      " |-- amp_curr_so: double (nullable = true)\n",
      " |-- duration_curr_so: integer (nullable = true)\n",
      " |-- curr_sleep_stage: integer (nullable = true)\n",
      " |-- time_elapsed_since_asleep: integer (nullable = true)\n",
      " |-- time_deep_sleep: integer (nullable = true)\n",
      " |-- time_light_sleep: integer (nullable = true)\n",
      " |-- time_rem_sleep: integer (nullable = true)\n",
      " |-- time_wake_sleep: integer (nullable = true)\n",
      " |-- eeg_min: double (nullable = true)\n",
      " |-- eeg_max: double (nullable = true)\n",
      " |-- eeg_mean: double (nullable = true)\n",
      " |-- eeg_median: double (nullable = true)\n",
      " |-- label: integer (nullable = true)"
     ]
    }
   ],
   "source": [
    "data_preprocessed = ss.createDataFrame(processed_rdd, schema)\n",
    "data_preprocessed.printSchema()"
   ]
  },
  {
   "cell_type": "code",
   "execution_count": 8,
   "metadata": {},
   "outputs": [
    {
     "data": {
      "application/vnd.jupyter.widget-view+json": {
       "model_id": "35e9f7c584484815a53611580f8b2db5",
       "version_major": 2,
       "version_minor": 0
      },
      "text/plain": [
       "VBox()"
      ]
     },
     "metadata": {},
     "output_type": "display_data"
    },
    {
     "data": {
      "application/vnd.jupyter.widget-view+json": {
       "model_id": "",
       "version_major": 2,
       "version_minor": 0
      },
      "text/plain": [
       "FloatProgress(value=0.0, bar_style='info', description='Progress:', layout=Layout(height='25px', width='50%'),…"
      ]
     },
     "metadata": {},
     "output_type": "display_data"
    },
    {
     "name": "stdout",
     "output_type": "stream",
     "text": [
      "+-----------+------------------+---------------------+-----------+----------------+----------------+-------------------------+---------------+----------------+--------------+---------------+--------+-------+--------------------+-----------------+-----+\n",
      "|num_prev_so|  mean_amp_prev_so|mean_duration_prev_so|amp_curr_so|duration_curr_so|curr_sleep_stage|time_elapsed_since_asleep|time_deep_sleep|time_light_sleep|time_rem_sleep|time_wake_sleep| eeg_min|eeg_max|            eeg_mean|       eeg_median|label|\n",
      "+-----------+------------------+---------------------+-----------+----------------+----------------+-------------------------+---------------+----------------+--------------+---------------+--------+-------+--------------------+-----------------+-----+\n",
      "|        237|           152.659|              341.523|    128.017|             429|               3|                    11379|           2730|            3780|             0|            480|-258.302|211.599|  11.400369923021584|          11.0302|    0|\n",
      "|        176|146.88299999999995|               338.04|    119.131|             196|               2|                     6721|           2580|            2100|             0|            480|-97.9233|70.1037| -1.2208607163069545|         -1.12336|    1|\n",
      "|        456|           152.377|              335.629|    164.293|             417|               2|                    26832|           3240|            7440|          2130|            750|-121.882|117.155|  3.5453129177458025|7.720039999999999|    1|\n",
      "|         21|           139.721|              336.286|    159.237|             407|               3|                     1289|              0|              60|             0|            450|-110.453|92.3682|-0.11853414580335754|         -3.48321|    1|\n",
      "|         72|           140.649|              349.875|    130.184|             297|               3|                     2262|            630|             960|             0|            450|-119.812|105.522|    1.42210017186251|        -0.786747|    2|\n",
      "+-----------+------------------+---------------------+-----------+----------------+----------------+-------------------------+---------------+----------------+--------------+---------------+--------+-------+--------------------+-----------------+-----+\n",
      "only showing top 5 rows"
     ]
    }
   ],
   "source": [
    "data_preprocessed.show(5)"
   ]
  },
  {
   "cell_type": "markdown",
   "metadata": {},
   "source": [
    "## Writing the created data frame to HDFS"
   ]
  },
  {
   "cell_type": "code",
   "execution_count": 10,
   "metadata": {},
   "outputs": [
    {
     "data": {
      "application/vnd.jupyter.widget-view+json": {
       "model_id": "affcd6a9f1af4dd7b6c3ce88e99a8f16",
       "version_major": 2,
       "version_minor": 0
      },
      "text/plain": [
       "VBox()"
      ]
     },
     "metadata": {},
     "output_type": "display_data"
    },
    {
     "data": {
      "application/vnd.jupyter.widget-view+json": {
       "model_id": "",
       "version_major": 2,
       "version_minor": 0
      },
      "text/plain": [
       "FloatProgress(value=0.0, bar_style='info', description='Progress:', layout=Layout(height='25px', width='50%'),…"
      ]
     },
     "metadata": {},
     "output_type": "display_data"
    }
   ],
   "source": [
    "data_preprocessed.write.option(\"path\", \"/data\").saveAsTable('data2')"
   ]
  },
  {
   "cell_type": "markdown",
   "metadata": {},
   "source": [
    "## Reading data from HDFS and train-test split"
   ]
  },
  {
   "cell_type": "code",
   "execution_count": 3,
   "metadata": {},
   "outputs": [
    {
     "data": {
      "application/vnd.jupyter.widget-view+json": {
       "model_id": "50bf5f8452c64b1ca8ae9d0e482b5cba",
       "version_major": 2,
       "version_minor": 0
      },
      "text/plain": [
       "VBox()"
      ]
     },
     "metadata": {},
     "output_type": "display_data"
    },
    {
     "data": {
      "application/vnd.jupyter.widget-view+json": {
       "model_id": "",
       "version_major": 2,
       "version_minor": 0
      },
      "text/plain": [
       "FloatProgress(value=0.0, bar_style='info', description='Progress:', layout=Layout(height='25px', width='50%'),…"
      ]
     },
     "metadata": {},
     "output_type": "display_data"
    }
   ],
   "source": [
    "import time\n",
    "begin_time = time.time()"
   ]
  },
  {
   "cell_type": "code",
   "execution_count": 4,
   "metadata": {
    "scrolled": true
   },
   "outputs": [
    {
     "data": {
      "application/vnd.jupyter.widget-view+json": {
       "model_id": "a041220fd36340ff8c6eb65d753e8e65",
       "version_major": 2,
       "version_minor": 0
      },
      "text/plain": [
       "VBox()"
      ]
     },
     "metadata": {},
     "output_type": "display_data"
    },
    {
     "data": {
      "application/vnd.jupyter.widget-view+json": {
       "model_id": "",
       "version_major": 2,
       "version_minor": 0
      },
      "text/plain": [
       "FloatProgress(value=0.0, bar_style='info', description='Progress:', layout=Layout(height='25px', width='50%'),…"
      ]
     },
     "metadata": {},
     "output_type": "display_data"
    }
   ],
   "source": [
    "data_df = ss.sql(\"select * from parquet.`/data`\")"
   ]
  },
  {
   "cell_type": "code",
   "execution_count": 5,
   "metadata": {},
   "outputs": [
    {
     "data": {
      "application/vnd.jupyter.widget-view+json": {
       "model_id": "04efd00fb5b34c22a3e148a3f39cee6e",
       "version_major": 2,
       "version_minor": 0
      },
      "text/plain": [
       "VBox()"
      ]
     },
     "metadata": {},
     "output_type": "display_data"
    },
    {
     "data": {
      "application/vnd.jupyter.widget-view+json": {
       "model_id": "",
       "version_major": 2,
       "version_minor": 0
      },
      "text/plain": [
       "FloatProgress(value=0.0, bar_style='info', description='Progress:', layout=Layout(height='25px', width='50%'),…"
      ]
     },
     "metadata": {},
     "output_type": "display_data"
    },
    {
     "name": "stdout",
     "output_type": "stream",
     "text": [
      "+-----------+------------------+---------------------+------------------+----------------+----------------+-------------------------+---------------+----------------+--------------+---------------+-------------------+-------+-------------------+------------------+-----+\n",
      "|num_prev_so|  mean_amp_prev_so|mean_duration_prev_so|       amp_curr_so|duration_curr_so|curr_sleep_stage|time_elapsed_since_asleep|time_deep_sleep|time_light_sleep|time_rem_sleep|time_wake_sleep|            eeg_min|eeg_max|           eeg_mean|        eeg_median|label|\n",
      "+-----------+------------------+---------------------+------------------+----------------+----------------+-------------------------+---------------+----------------+--------------+---------------+-------------------+-------+-------------------+------------------+-----+\n",
      "|         87|           149.343|              266.471|           204.406|             252|               3|                     2540|            420|             600|             0|           1560|            -109.03|134.534| 0.3667336334132688|           1.30413|    0|\n",
      "|        629|            153.59|              275.824|           116.967|             209|               3|                    10347|           5370|            9390|          1290|           2430|-135.55700000000002|119.423| 1.4240084677058353|          -1.32157|    1|\n",
      "|        608|153.35399999999996|              275.896|           157.118|             211|               3|                    10098|           5370|            9120|          1290|           2430|           -88.5736|81.5828| 1.7195768442845722|           4.46697|    2|\n",
      "|        737|            156.01|              276.448|           143.514|             206|               2|                    15629|           5370|            9390|          1320|           2490|           -100.218|52.3902|-0.6115496356354916|            2.1818|    0|\n",
      "|        115|           148.907|              269.374|242.71400000000003|             298|               3|                     2748|           1260|             600|             0|           1560|            -136.23|153.128| 1.6976152004796157|5.8388800000000005|    2|\n",
      "+-----------+------------------+---------------------+------------------+----------------+----------------+-------------------------+---------------+----------------+--------------+---------------+-------------------+-------+-------------------+------------------+-----+\n",
      "only showing top 5 rows"
     ]
    }
   ],
   "source": [
    "data_df.show(5)"
   ]
  },
  {
   "cell_type": "code",
   "execution_count": 6,
   "metadata": {},
   "outputs": [
    {
     "data": {
      "application/vnd.jupyter.widget-view+json": {
       "model_id": "8209cd666236423996f959f1a10208c3",
       "version_major": 2,
       "version_minor": 0
      },
      "text/plain": [
       "VBox()"
      ]
     },
     "metadata": {},
     "output_type": "display_data"
    },
    {
     "data": {
      "application/vnd.jupyter.widget-view+json": {
       "model_id": "",
       "version_major": 2,
       "version_minor": 0
      },
      "text/plain": [
       "FloatProgress(value=0.0, bar_style='info', description='Progress:', layout=Layout(height='25px', width='50%'),…"
      ]
     },
     "metadata": {},
     "output_type": "display_data"
    },
    {
     "name": "stdout",
     "output_type": "stream",
     "text": [
      "DataFrame[num_prev_so: int, mean_amp_prev_so: double, mean_duration_prev_so: double, amp_curr_so: double, duration_curr_so: int, curr_sleep_stage: int, time_elapsed_since_asleep: int, time_deep_sleep: int, time_light_sleep: int, time_rem_sleep: int, time_wake_sleep: int, eeg_min: double, eeg_max: double, eeg_mean: double, eeg_median: double, label: int]"
     ]
    }
   ],
   "source": [
    "train_df, valid_df = data_df.randomSplit([0.85, 0.15], seed=1)\n",
    "train_df.cache()\n",
    "valid_df.cache()"
   ]
  },
  {
   "cell_type": "code",
   "execution_count": 7,
   "metadata": {
    "scrolled": true
   },
   "outputs": [
    {
     "data": {
      "application/vnd.jupyter.widget-view+json": {
       "model_id": "9cc082646ab04e8cad2990802eb87673",
       "version_major": 2,
       "version_minor": 0
      },
      "text/plain": [
       "VBox()"
      ]
     },
     "metadata": {},
     "output_type": "display_data"
    },
    {
     "data": {
      "application/vnd.jupyter.widget-view+json": {
       "model_id": "",
       "version_major": 2,
       "version_minor": 0
      },
      "text/plain": [
       "FloatProgress(value=0.0, bar_style='info', description='Progress:', layout=Layout(height='25px', width='50%'),…"
      ]
     },
     "metadata": {},
     "output_type": "display_data"
    },
    {
     "name": "stdout",
     "output_type": "stream",
     "text": [
      "+-----------+----------------+---------------------+-----------+----------------+----------------+-------------------------+---------------+----------------+--------------+---------------+--------+-------+--------------------+------------------+-----+\n",
      "|num_prev_so|mean_amp_prev_so|mean_duration_prev_so|amp_curr_so|duration_curr_so|curr_sleep_stage|time_elapsed_since_asleep|time_deep_sleep|time_light_sleep|time_rem_sleep|time_wake_sleep| eeg_min|eeg_max|            eeg_mean|        eeg_median|label|\n",
      "+-----------+----------------+---------------------+-----------+----------------+----------------+-------------------------+---------------+----------------+--------------+---------------+--------+-------+--------------------+------------------+-----+\n",
      "|          0|         101.652|                401.0|    101.652|             401|               2|                     1312|              0|               0|             0|              0| -77.295|44.7426|-0.11643790852917653|          0.186303|    0|\n",
      "|          0|         102.085|                251.0|    102.085|             251|               2|                      341|              0|               0|             0|              0|-80.1041|45.2319| 0.19935594333333284|           1.02885|    0|\n",
      "|          0|         103.187|                411.0|    103.187|             411|               2|                      151|              0|               0|             0|              0| -75.561|64.0004|   1.714772422861711|           2.60969|    1|\n",
      "|          0|         106.192|                186.0|    106.192|             186|               2|                       21|              0|               0|             0|              0|-99.1389|53.9122| 0.13658727187050348|           1.46378|    0|\n",
      "|          0|         107.536|                454.0|    107.536|             454|               2|                      137|              0|               0|             0|              0|-74.6236|79.7086|  2.6044361050359717|2.8277400000000004|    0|\n",
      "+-----------+----------------+---------------------+-----------+----------------+----------------+-------------------------+---------------+----------------+--------------+---------------+--------+-------+--------------------+------------------+-----+\n",
      "only showing top 5 rows"
     ]
    }
   ],
   "source": [
    "train_df.show(5)"
   ]
  },
  {
   "cell_type": "markdown",
   "metadata": {},
   "source": [
    "## Random Forest Model"
   ]
  },
  {
   "cell_type": "code",
   "execution_count": 8,
   "metadata": {},
   "outputs": [
    {
     "data": {
      "application/vnd.jupyter.widget-view+json": {
       "model_id": "bc8c49f652b24cb48bb103e007459d1a",
       "version_major": 2,
       "version_minor": 0
      },
      "text/plain": [
       "VBox()"
      ]
     },
     "metadata": {},
     "output_type": "display_data"
    },
    {
     "data": {
      "application/vnd.jupyter.widget-view+json": {
       "model_id": "",
       "version_major": 2,
       "version_minor": 0
      },
      "text/plain": [
       "FloatProgress(value=0.0, bar_style='info', description='Progress:', layout=Layout(height='25px', width='50%'),…"
      ]
     },
     "metadata": {},
     "output_type": "display_data"
    }
   ],
   "source": [
    "from pyspark.ml.feature import VectorAssembler\n",
    "va = VectorAssembler(outputCol=\"features\", inputCols=train_df.columns[0:-1]) #except the last col.\n",
    "train_vec = va.transform(train_df).select(\"features\", \"label\")\n",
    "valid_vec = va.transform(valid_df).select(\"features\", \"label\")\n",
    "data_vec = va.transform(data_df).select(\"features\", \"label\")"
   ]
  },
  {
   "cell_type": "code",
   "execution_count": 9,
   "metadata": {},
   "outputs": [
    {
     "data": {
      "application/vnd.jupyter.widget-view+json": {
       "model_id": "1aea245ec05d45ad931d5db820eb7d79",
       "version_major": 2,
       "version_minor": 0
      },
      "text/plain": [
       "VBox()"
      ]
     },
     "metadata": {},
     "output_type": "display_data"
    },
    {
     "data": {
      "application/vnd.jupyter.widget-view+json": {
       "model_id": "",
       "version_major": 2,
       "version_minor": 0
      },
      "text/plain": [
       "FloatProgress(value=0.0, bar_style='info', description='Progress:', layout=Layout(height='25px', width='50%'),…"
      ]
     },
     "metadata": {},
     "output_type": "display_data"
    }
   ],
   "source": [
    "from pyspark.ml.classification import RandomForestClassifier\n",
    "rf = RandomForestClassifier(maxDepth=20)\n",
    "rfmodel = rf.fit(train_vec)"
   ]
  },
  {
   "cell_type": "code",
   "execution_count": 10,
   "metadata": {},
   "outputs": [
    {
     "data": {
      "application/vnd.jupyter.widget-view+json": {
       "model_id": "cc08f11fcbcc44ceab72f4f9ce4db656",
       "version_major": 2,
       "version_minor": 0
      },
      "text/plain": [
       "VBox()"
      ]
     },
     "metadata": {},
     "output_type": "display_data"
    },
    {
     "data": {
      "application/vnd.jupyter.widget-view+json": {
       "model_id": "",
       "version_major": 2,
       "version_minor": 0
      },
      "text/plain": [
       "FloatProgress(value=0.0, bar_style='info', description='Progress:', layout=Layout(height='25px', width='50%'),…"
      ]
     },
     "metadata": {},
     "output_type": "display_data"
    }
   ],
   "source": [
    "rfpredicts = rfmodel.transform(valid_vec)"
   ]
  },
  {
   "cell_type": "code",
   "execution_count": 11,
   "metadata": {},
   "outputs": [
    {
     "data": {
      "application/vnd.jupyter.widget-view+json": {
       "model_id": "2e6addff76c34994b13dca89bb78e0a9",
       "version_major": 2,
       "version_minor": 0
      },
      "text/plain": [
       "VBox()"
      ]
     },
     "metadata": {},
     "output_type": "display_data"
    },
    {
     "data": {
      "application/vnd.jupyter.widget-view+json": {
       "model_id": "",
       "version_major": 2,
       "version_minor": 0
      },
      "text/plain": [
       "FloatProgress(value=0.0, bar_style='info', description='Progress:', layout=Layout(height='25px', width='50%'),…"
      ]
     },
     "metadata": {},
     "output_type": "display_data"
    },
    {
     "name": "stdout",
     "output_type": "stream",
     "text": [
      "0.48938880538075463"
     ]
    }
   ],
   "source": [
    "from pyspark.ml.evaluation import MulticlassClassificationEvaluator\n",
    "# expects two input columns: prediction and label.\n",
    "\n",
    "metrics = MulticlassClassificationEvaluator()\\\n",
    "                .setLabelCol(\"label\")\\\n",
    "                .setPredictionCol(\"prediction\")\n",
    "metrics.setMetricName(\"accuracy\") # \"f1\", \"weightedPrecision\", \"weightedRecall\", \"accuracy\" (defulat)\n",
    "metrics.evaluate(rfpredicts)"
   ]
  },
  {
   "cell_type": "code",
   "execution_count": 12,
   "metadata": {
    "scrolled": true
   },
   "outputs": [
    {
     "data": {
      "application/vnd.jupyter.widget-view+json": {
       "model_id": "034b9557fa7740cba23ac4787e689854",
       "version_major": 2,
       "version_minor": 0
      },
      "text/plain": [
       "VBox()"
      ]
     },
     "metadata": {},
     "output_type": "display_data"
    },
    {
     "data": {
      "application/vnd.jupyter.widget-view+json": {
       "model_id": "",
       "version_major": 2,
       "version_minor": 0
      },
      "text/plain": [
       "FloatProgress(value=0.0, bar_style='info', description='Progress:', layout=Layout(height='25px', width='50%'),…"
      ]
     },
     "metadata": {},
     "output_type": "display_data"
    }
   ],
   "source": [
    "from pyspark.ml.tuning import CrossValidator\n",
    "from pyspark.ml.tuning import ParamGridBuilder\n",
    "from pyspark.ml.evaluation import MulticlassClassificationEvaluator\n",
    "\n",
    "evaluator = MulticlassClassificationEvaluator()\\\n",
    "                .setLabelCol(\"label\")\\\n",
    "                .setPredictionCol(\"prediction\")\n",
    "evaluator.setMetricName(\"accuracy\")\n",
    "#ParamGridBuilder() – combinations of parameters and their values.\n",
    "paramGrid = ParamGridBuilder().addGrid(rf.maxDepth, [5, 10]).addGrid(rf.numTrees, [10,15]).build()\n",
    "cv = CrossValidator(estimator=rf, evaluator=evaluator, numFolds=3, estimatorParamMaps=paramGrid)\n",
    "\n",
    "cvmodel = cv.fit(train_vec)"
   ]
  },
  {
   "cell_type": "code",
   "execution_count": 13,
   "metadata": {},
   "outputs": [
    {
     "data": {
      "application/vnd.jupyter.widget-view+json": {
       "model_id": "5f2c0e86c3fd4d0e802cd7f3580d4a96",
       "version_major": 2,
       "version_minor": 0
      },
      "text/plain": [
       "VBox()"
      ]
     },
     "metadata": {},
     "output_type": "display_data"
    },
    {
     "data": {
      "application/vnd.jupyter.widget-view+json": {
       "model_id": "",
       "version_major": 2,
       "version_minor": 0
      },
      "text/plain": [
       "FloatProgress(value=0.0, bar_style='info', description='Progress:', layout=Layout(height='25px', width='50%'),…"
      ]
     },
     "metadata": {},
     "output_type": "display_data"
    },
    {
     "name": "stdout",
     "output_type": "stream",
     "text": [
      "Best Max Depth : 10\n",
      "Accuracy : 0.503579526636264"
     ]
    }
   ],
   "source": [
    "evaluator = MulticlassClassificationEvaluator()\\\n",
    "                .setLabelCol(\"label\")\\\n",
    "                .setPredictionCol(\"prediction\")\n",
    "evaluator.setMetricName(\"accuracy\")\n",
    "\n",
    "print(\"Best Max Depth : %s\" % cvmodel.bestModel._java_obj.getMaxDepth())\n",
    "print(\"Accuracy : %s\" % evaluator.evaluate(cvmodel.bestModel.transform(valid_vec)))"
   ]
  },
  {
   "cell_type": "code",
   "execution_count": 14,
   "metadata": {},
   "outputs": [
    {
     "data": {
      "application/vnd.jupyter.widget-view+json": {
       "model_id": "e2a98ea0b5c048d2985f6397e912d903",
       "version_major": 2,
       "version_minor": 0
      },
      "text/plain": [
       "VBox()"
      ]
     },
     "metadata": {},
     "output_type": "display_data"
    },
    {
     "data": {
      "application/vnd.jupyter.widget-view+json": {
       "model_id": "",
       "version_major": 2,
       "version_minor": 0
      },
      "text/plain": [
       "FloatProgress(value=0.0, bar_style='info', description='Progress:', layout=Layout(height='25px', width='50%'),…"
      ]
     },
     "metadata": {},
     "output_type": "display_data"
    },
    {
     "name": "stdout",
     "output_type": "stream",
     "text": [
      "222.49904942512512"
     ]
    }
   ],
   "source": [
    "time_period = time.time() - begin_time\n",
    "time_period"
   ]
  },
  {
   "cell_type": "code",
   "execution_count": null,
   "metadata": {},
   "outputs": [],
   "source": []
  }
 ],
 "metadata": {
  "kernelspec": {
   "display_name": "PySpark",
   "language": "",
   "name": "pysparkkernel"
  },
  "language_info": {
   "codemirror_mode": {
    "name": "python",
    "version": 2
   },
   "mimetype": "text/x-python",
   "name": "pyspark",
   "pygments_lexer": "python2"
  }
 },
 "nbformat": 4,
 "nbformat_minor": 4
}
